{
  "cells": [
    {
      "cell_type": "code",
      "execution_count": null,
      "id": "6440f398",
      "metadata": {
        "id": "6440f398"
      },
      "outputs": [],
      "source": [
        "import pandas as pd\n",
        "from keras.layers import Bidirectional, GlobalMaxPool1D, MaxPooling1D, Add, Flatten"
      ]
    },
    {
      "cell_type": "code",
      "execution_count": null,
      "id": "215a14be",
      "metadata": {
        "id": "215a14be"
      },
      "outputs": [],
      "source": [
        "data=pd.read_csv(\"/content/MTPOF.csv\")"
      ]
    },
    {
      "cell_type": "code",
      "execution_count": null,
      "id": "87f29726",
      "metadata": {
        "colab": {
          "base_uri": "https://localhost:8080/",
          "height": 206
        },
        "id": "87f29726",
        "outputId": "d47cea45-7657-4d85-91ff-4eb68cfd5d90"
      },
      "outputs": [
        {
          "output_type": "execute_result",
          "data": {
            "text/plain": [
              "         Date     Open     High      Low    Close  Adj Close  Volume\n",
              "0  2020-01-02  1.15929  1.15929  1.15929  1.15929  -0.058897       0\n",
              "1  2020-01-03  1.15929  1.15929  1.15929  1.15929  -0.058897       0\n",
              "2  2020-01-06  1.15929  1.15929  1.15929  1.15929  -0.058897       0\n",
              "3  2020-01-07  1.15929  1.15929  1.15929  1.15929  -0.058897       0\n",
              "4  2020-01-08  1.15929  1.15929  1.15929  1.15929  -0.058897       0"
            ],
            "text/html": [
              "\n",
              "  <div id=\"df-8ff7eb6f-ad5b-4823-af64-61f096f8e761\">\n",
              "    <div class=\"colab-df-container\">\n",
              "      <div>\n",
              "<style scoped>\n",
              "    .dataframe tbody tr th:only-of-type {\n",
              "        vertical-align: middle;\n",
              "    }\n",
              "\n",
              "    .dataframe tbody tr th {\n",
              "        vertical-align: top;\n",
              "    }\n",
              "\n",
              "    .dataframe thead th {\n",
              "        text-align: right;\n",
              "    }\n",
              "</style>\n",
              "<table border=\"1\" class=\"dataframe\">\n",
              "  <thead>\n",
              "    <tr style=\"text-align: right;\">\n",
              "      <th></th>\n",
              "      <th>Date</th>\n",
              "      <th>Open</th>\n",
              "      <th>High</th>\n",
              "      <th>Low</th>\n",
              "      <th>Close</th>\n",
              "      <th>Adj Close</th>\n",
              "      <th>Volume</th>\n",
              "    </tr>\n",
              "  </thead>\n",
              "  <tbody>\n",
              "    <tr>\n",
              "      <th>0</th>\n",
              "      <td>2020-01-02</td>\n",
              "      <td>1.15929</td>\n",
              "      <td>1.15929</td>\n",
              "      <td>1.15929</td>\n",
              "      <td>1.15929</td>\n",
              "      <td>-0.058897</td>\n",
              "      <td>0</td>\n",
              "    </tr>\n",
              "    <tr>\n",
              "      <th>1</th>\n",
              "      <td>2020-01-03</td>\n",
              "      <td>1.15929</td>\n",
              "      <td>1.15929</td>\n",
              "      <td>1.15929</td>\n",
              "      <td>1.15929</td>\n",
              "      <td>-0.058897</td>\n",
              "      <td>0</td>\n",
              "    </tr>\n",
              "    <tr>\n",
              "      <th>2</th>\n",
              "      <td>2020-01-06</td>\n",
              "      <td>1.15929</td>\n",
              "      <td>1.15929</td>\n",
              "      <td>1.15929</td>\n",
              "      <td>1.15929</td>\n",
              "      <td>-0.058897</td>\n",
              "      <td>0</td>\n",
              "    </tr>\n",
              "    <tr>\n",
              "      <th>3</th>\n",
              "      <td>2020-01-07</td>\n",
              "      <td>1.15929</td>\n",
              "      <td>1.15929</td>\n",
              "      <td>1.15929</td>\n",
              "      <td>1.15929</td>\n",
              "      <td>-0.058897</td>\n",
              "      <td>0</td>\n",
              "    </tr>\n",
              "    <tr>\n",
              "      <th>4</th>\n",
              "      <td>2020-01-08</td>\n",
              "      <td>1.15929</td>\n",
              "      <td>1.15929</td>\n",
              "      <td>1.15929</td>\n",
              "      <td>1.15929</td>\n",
              "      <td>-0.058897</td>\n",
              "      <td>0</td>\n",
              "    </tr>\n",
              "  </tbody>\n",
              "</table>\n",
              "</div>\n",
              "      <button class=\"colab-df-convert\" onclick=\"convertToInteractive('df-8ff7eb6f-ad5b-4823-af64-61f096f8e761')\"\n",
              "              title=\"Convert this dataframe to an interactive table.\"\n",
              "              style=\"display:none;\">\n",
              "        \n",
              "  <svg xmlns=\"http://www.w3.org/2000/svg\" height=\"24px\"viewBox=\"0 0 24 24\"\n",
              "       width=\"24px\">\n",
              "    <path d=\"M0 0h24v24H0V0z\" fill=\"none\"/>\n",
              "    <path d=\"M18.56 5.44l.94 2.06.94-2.06 2.06-.94-2.06-.94-.94-2.06-.94 2.06-2.06.94zm-11 1L8.5 8.5l.94-2.06 2.06-.94-2.06-.94L8.5 2.5l-.94 2.06-2.06.94zm10 10l.94 2.06.94-2.06 2.06-.94-2.06-.94-.94-2.06-.94 2.06-2.06.94z\"/><path d=\"M17.41 7.96l-1.37-1.37c-.4-.4-.92-.59-1.43-.59-.52 0-1.04.2-1.43.59L10.3 9.45l-7.72 7.72c-.78.78-.78 2.05 0 2.83L4 21.41c.39.39.9.59 1.41.59.51 0 1.02-.2 1.41-.59l7.78-7.78 2.81-2.81c.8-.78.8-2.07 0-2.86zM5.41 20L4 18.59l7.72-7.72 1.47 1.35L5.41 20z\"/>\n",
              "  </svg>\n",
              "      </button>\n",
              "      \n",
              "  <style>\n",
              "    .colab-df-container {\n",
              "      display:flex;\n",
              "      flex-wrap:wrap;\n",
              "      gap: 12px;\n",
              "    }\n",
              "\n",
              "    .colab-df-convert {\n",
              "      background-color: #E8F0FE;\n",
              "      border: none;\n",
              "      border-radius: 50%;\n",
              "      cursor: pointer;\n",
              "      display: none;\n",
              "      fill: #1967D2;\n",
              "      height: 32px;\n",
              "      padding: 0 0 0 0;\n",
              "      width: 32px;\n",
              "    }\n",
              "\n",
              "    .colab-df-convert:hover {\n",
              "      background-color: #E2EBFA;\n",
              "      box-shadow: 0px 1px 2px rgba(60, 64, 67, 0.3), 0px 1px 3px 1px rgba(60, 64, 67, 0.15);\n",
              "      fill: #174EA6;\n",
              "    }\n",
              "\n",
              "    [theme=dark] .colab-df-convert {\n",
              "      background-color: #3B4455;\n",
              "      fill: #D2E3FC;\n",
              "    }\n",
              "\n",
              "    [theme=dark] .colab-df-convert:hover {\n",
              "      background-color: #434B5C;\n",
              "      box-shadow: 0px 1px 3px 1px rgba(0, 0, 0, 0.15);\n",
              "      filter: drop-shadow(0px 1px 2px rgba(0, 0, 0, 0.3));\n",
              "      fill: #FFFFFF;\n",
              "    }\n",
              "  </style>\n",
              "\n",
              "      <script>\n",
              "        const buttonEl =\n",
              "          document.querySelector('#df-8ff7eb6f-ad5b-4823-af64-61f096f8e761 button.colab-df-convert');\n",
              "        buttonEl.style.display =\n",
              "          google.colab.kernel.accessAllowed ? 'block' : 'none';\n",
              "\n",
              "        async function convertToInteractive(key) {\n",
              "          const element = document.querySelector('#df-8ff7eb6f-ad5b-4823-af64-61f096f8e761');\n",
              "          const dataTable =\n",
              "            await google.colab.kernel.invokeFunction('convertToInteractive',\n",
              "                                                     [key], {});\n",
              "          if (!dataTable) return;\n",
              "\n",
              "          const docLinkHtml = 'Like what you see? Visit the ' +\n",
              "            '<a target=\"_blank\" href=https://colab.research.google.com/notebooks/data_table.ipynb>data table notebook</a>'\n",
              "            + ' to learn more about interactive tables.';\n",
              "          element.innerHTML = '';\n",
              "          dataTable['output_type'] = 'display_data';\n",
              "          await google.colab.output.renderOutput(dataTable, element);\n",
              "          const docLink = document.createElement('div');\n",
              "          docLink.innerHTML = docLinkHtml;\n",
              "          element.appendChild(docLink);\n",
              "        }\n",
              "      </script>\n",
              "    </div>\n",
              "  </div>\n",
              "  "
            ]
          },
          "metadata": {},
          "execution_count": 88
        }
      ],
      "source": [
        "data.head()"
      ]
    },
    {
      "cell_type": "code",
      "execution_count": null,
      "id": "3b5e2a13",
      "metadata": {
        "colab": {
          "base_uri": "https://localhost:8080/",
          "height": 206
        },
        "id": "3b5e2a13",
        "outputId": "357624ce-72c4-4bd9-b58c-479fc8c7ba71"
      },
      "outputs": [
        {
          "output_type": "execute_result",
          "data": {
            "text/plain": [
              "           Date    Open    High     Low   Close  Adj Close  Volume\n",
              "693  2022-10-03  0.8405  0.8405  0.8405  0.8405     0.8405    6450\n",
              "694  2022-10-04  0.8405  0.8405  0.8405  0.8405     0.8405       0\n",
              "695  2022-10-05  0.8405  0.8405  0.8405  0.8405     0.8405       0\n",
              "696  2022-10-06  0.8405  0.8405  0.8405  0.8405     0.8405       0\n",
              "697  2022-10-07  0.8405  0.8405  0.8405  0.8405     0.8405       0"
            ],
            "text/html": [
              "\n",
              "  <div id=\"df-5fc5bba8-ad32-4583-b734-efad888ab83d\">\n",
              "    <div class=\"colab-df-container\">\n",
              "      <div>\n",
              "<style scoped>\n",
              "    .dataframe tbody tr th:only-of-type {\n",
              "        vertical-align: middle;\n",
              "    }\n",
              "\n",
              "    .dataframe tbody tr th {\n",
              "        vertical-align: top;\n",
              "    }\n",
              "\n",
              "    .dataframe thead th {\n",
              "        text-align: right;\n",
              "    }\n",
              "</style>\n",
              "<table border=\"1\" class=\"dataframe\">\n",
              "  <thead>\n",
              "    <tr style=\"text-align: right;\">\n",
              "      <th></th>\n",
              "      <th>Date</th>\n",
              "      <th>Open</th>\n",
              "      <th>High</th>\n",
              "      <th>Low</th>\n",
              "      <th>Close</th>\n",
              "      <th>Adj Close</th>\n",
              "      <th>Volume</th>\n",
              "    </tr>\n",
              "  </thead>\n",
              "  <tbody>\n",
              "    <tr>\n",
              "      <th>693</th>\n",
              "      <td>2022-10-03</td>\n",
              "      <td>0.8405</td>\n",
              "      <td>0.8405</td>\n",
              "      <td>0.8405</td>\n",
              "      <td>0.8405</td>\n",
              "      <td>0.8405</td>\n",
              "      <td>6450</td>\n",
              "    </tr>\n",
              "    <tr>\n",
              "      <th>694</th>\n",
              "      <td>2022-10-04</td>\n",
              "      <td>0.8405</td>\n",
              "      <td>0.8405</td>\n",
              "      <td>0.8405</td>\n",
              "      <td>0.8405</td>\n",
              "      <td>0.8405</td>\n",
              "      <td>0</td>\n",
              "    </tr>\n",
              "    <tr>\n",
              "      <th>695</th>\n",
              "      <td>2022-10-05</td>\n",
              "      <td>0.8405</td>\n",
              "      <td>0.8405</td>\n",
              "      <td>0.8405</td>\n",
              "      <td>0.8405</td>\n",
              "      <td>0.8405</td>\n",
              "      <td>0</td>\n",
              "    </tr>\n",
              "    <tr>\n",
              "      <th>696</th>\n",
              "      <td>2022-10-06</td>\n",
              "      <td>0.8405</td>\n",
              "      <td>0.8405</td>\n",
              "      <td>0.8405</td>\n",
              "      <td>0.8405</td>\n",
              "      <td>0.8405</td>\n",
              "      <td>0</td>\n",
              "    </tr>\n",
              "    <tr>\n",
              "      <th>697</th>\n",
              "      <td>2022-10-07</td>\n",
              "      <td>0.8405</td>\n",
              "      <td>0.8405</td>\n",
              "      <td>0.8405</td>\n",
              "      <td>0.8405</td>\n",
              "      <td>0.8405</td>\n",
              "      <td>0</td>\n",
              "    </tr>\n",
              "  </tbody>\n",
              "</table>\n",
              "</div>\n",
              "      <button class=\"colab-df-convert\" onclick=\"convertToInteractive('df-5fc5bba8-ad32-4583-b734-efad888ab83d')\"\n",
              "              title=\"Convert this dataframe to an interactive table.\"\n",
              "              style=\"display:none;\">\n",
              "        \n",
              "  <svg xmlns=\"http://www.w3.org/2000/svg\" height=\"24px\"viewBox=\"0 0 24 24\"\n",
              "       width=\"24px\">\n",
              "    <path d=\"M0 0h24v24H0V0z\" fill=\"none\"/>\n",
              "    <path d=\"M18.56 5.44l.94 2.06.94-2.06 2.06-.94-2.06-.94-.94-2.06-.94 2.06-2.06.94zm-11 1L8.5 8.5l.94-2.06 2.06-.94-2.06-.94L8.5 2.5l-.94 2.06-2.06.94zm10 10l.94 2.06.94-2.06 2.06-.94-2.06-.94-.94-2.06-.94 2.06-2.06.94z\"/><path d=\"M17.41 7.96l-1.37-1.37c-.4-.4-.92-.59-1.43-.59-.52 0-1.04.2-1.43.59L10.3 9.45l-7.72 7.72c-.78.78-.78 2.05 0 2.83L4 21.41c.39.39.9.59 1.41.59.51 0 1.02-.2 1.41-.59l7.78-7.78 2.81-2.81c.8-.78.8-2.07 0-2.86zM5.41 20L4 18.59l7.72-7.72 1.47 1.35L5.41 20z\"/>\n",
              "  </svg>\n",
              "      </button>\n",
              "      \n",
              "  <style>\n",
              "    .colab-df-container {\n",
              "      display:flex;\n",
              "      flex-wrap:wrap;\n",
              "      gap: 12px;\n",
              "    }\n",
              "\n",
              "    .colab-df-convert {\n",
              "      background-color: #E8F0FE;\n",
              "      border: none;\n",
              "      border-radius: 50%;\n",
              "      cursor: pointer;\n",
              "      display: none;\n",
              "      fill: #1967D2;\n",
              "      height: 32px;\n",
              "      padding: 0 0 0 0;\n",
              "      width: 32px;\n",
              "    }\n",
              "\n",
              "    .colab-df-convert:hover {\n",
              "      background-color: #E2EBFA;\n",
              "      box-shadow: 0px 1px 2px rgba(60, 64, 67, 0.3), 0px 1px 3px 1px rgba(60, 64, 67, 0.15);\n",
              "      fill: #174EA6;\n",
              "    }\n",
              "\n",
              "    [theme=dark] .colab-df-convert {\n",
              "      background-color: #3B4455;\n",
              "      fill: #D2E3FC;\n",
              "    }\n",
              "\n",
              "    [theme=dark] .colab-df-convert:hover {\n",
              "      background-color: #434B5C;\n",
              "      box-shadow: 0px 1px 3px 1px rgba(0, 0, 0, 0.15);\n",
              "      filter: drop-shadow(0px 1px 2px rgba(0, 0, 0, 0.3));\n",
              "      fill: #FFFFFF;\n",
              "    }\n",
              "  </style>\n",
              "\n",
              "      <script>\n",
              "        const buttonEl =\n",
              "          document.querySelector('#df-5fc5bba8-ad32-4583-b734-efad888ab83d button.colab-df-convert');\n",
              "        buttonEl.style.display =\n",
              "          google.colab.kernel.accessAllowed ? 'block' : 'none';\n",
              "\n",
              "        async function convertToInteractive(key) {\n",
              "          const element = document.querySelector('#df-5fc5bba8-ad32-4583-b734-efad888ab83d');\n",
              "          const dataTable =\n",
              "            await google.colab.kernel.invokeFunction('convertToInteractive',\n",
              "                                                     [key], {});\n",
              "          if (!dataTable) return;\n",
              "\n",
              "          const docLinkHtml = 'Like what you see? Visit the ' +\n",
              "            '<a target=\"_blank\" href=https://colab.research.google.com/notebooks/data_table.ipynb>data table notebook</a>'\n",
              "            + ' to learn more about interactive tables.';\n",
              "          element.innerHTML = '';\n",
              "          dataTable['output_type'] = 'display_data';\n",
              "          await google.colab.output.renderOutput(dataTable, element);\n",
              "          const docLink = document.createElement('div');\n",
              "          docLink.innerHTML = docLinkHtml;\n",
              "          element.appendChild(docLink);\n",
              "        }\n",
              "      </script>\n",
              "    </div>\n",
              "  </div>\n",
              "  "
            ]
          },
          "metadata": {},
          "execution_count": 89
        }
      ],
      "source": [
        "data.tail()"
      ]
    },
    {
      "cell_type": "code",
      "execution_count": null,
      "id": "cbfca569",
      "metadata": {
        "id": "cbfca569"
      },
      "outputs": [],
      "source": [
        "data=data[data.iloc[:,0]>='2021-10-03']"
      ]
    },
    {
      "cell_type": "code",
      "execution_count": null,
      "id": "29fbff9b",
      "metadata": {
        "colab": {
          "base_uri": "https://localhost:8080/",
          "height": 206
        },
        "id": "29fbff9b",
        "outputId": "5caba58e-bba5-4414-bb6c-8cce31d6fc88"
      },
      "outputs": [
        {
          "output_type": "execute_result",
          "data": {
            "text/plain": [
              "           Date    Open    High     Low   Close  Adj Close  Volume\n",
              "693  2022-10-03  0.8405  0.8405  0.8405  0.8405     0.8405    6450\n",
              "694  2022-10-04  0.8405  0.8405  0.8405  0.8405     0.8405       0\n",
              "695  2022-10-05  0.8405  0.8405  0.8405  0.8405     0.8405       0\n",
              "696  2022-10-06  0.8405  0.8405  0.8405  0.8405     0.8405       0\n",
              "697  2022-10-07  0.8405  0.8405  0.8405  0.8405     0.8405       0"
            ],
            "text/html": [
              "\n",
              "  <div id=\"df-0e27b5fc-ebad-48a7-bc07-5bc4198a2fbd\">\n",
              "    <div class=\"colab-df-container\">\n",
              "      <div>\n",
              "<style scoped>\n",
              "    .dataframe tbody tr th:only-of-type {\n",
              "        vertical-align: middle;\n",
              "    }\n",
              "\n",
              "    .dataframe tbody tr th {\n",
              "        vertical-align: top;\n",
              "    }\n",
              "\n",
              "    .dataframe thead th {\n",
              "        text-align: right;\n",
              "    }\n",
              "</style>\n",
              "<table border=\"1\" class=\"dataframe\">\n",
              "  <thead>\n",
              "    <tr style=\"text-align: right;\">\n",
              "      <th></th>\n",
              "      <th>Date</th>\n",
              "      <th>Open</th>\n",
              "      <th>High</th>\n",
              "      <th>Low</th>\n",
              "      <th>Close</th>\n",
              "      <th>Adj Close</th>\n",
              "      <th>Volume</th>\n",
              "    </tr>\n",
              "  </thead>\n",
              "  <tbody>\n",
              "    <tr>\n",
              "      <th>693</th>\n",
              "      <td>2022-10-03</td>\n",
              "      <td>0.8405</td>\n",
              "      <td>0.8405</td>\n",
              "      <td>0.8405</td>\n",
              "      <td>0.8405</td>\n",
              "      <td>0.8405</td>\n",
              "      <td>6450</td>\n",
              "    </tr>\n",
              "    <tr>\n",
              "      <th>694</th>\n",
              "      <td>2022-10-04</td>\n",
              "      <td>0.8405</td>\n",
              "      <td>0.8405</td>\n",
              "      <td>0.8405</td>\n",
              "      <td>0.8405</td>\n",
              "      <td>0.8405</td>\n",
              "      <td>0</td>\n",
              "    </tr>\n",
              "    <tr>\n",
              "      <th>695</th>\n",
              "      <td>2022-10-05</td>\n",
              "      <td>0.8405</td>\n",
              "      <td>0.8405</td>\n",
              "      <td>0.8405</td>\n",
              "      <td>0.8405</td>\n",
              "      <td>0.8405</td>\n",
              "      <td>0</td>\n",
              "    </tr>\n",
              "    <tr>\n",
              "      <th>696</th>\n",
              "      <td>2022-10-06</td>\n",
              "      <td>0.8405</td>\n",
              "      <td>0.8405</td>\n",
              "      <td>0.8405</td>\n",
              "      <td>0.8405</td>\n",
              "      <td>0.8405</td>\n",
              "      <td>0</td>\n",
              "    </tr>\n",
              "    <tr>\n",
              "      <th>697</th>\n",
              "      <td>2022-10-07</td>\n",
              "      <td>0.8405</td>\n",
              "      <td>0.8405</td>\n",
              "      <td>0.8405</td>\n",
              "      <td>0.8405</td>\n",
              "      <td>0.8405</td>\n",
              "      <td>0</td>\n",
              "    </tr>\n",
              "  </tbody>\n",
              "</table>\n",
              "</div>\n",
              "      <button class=\"colab-df-convert\" onclick=\"convertToInteractive('df-0e27b5fc-ebad-48a7-bc07-5bc4198a2fbd')\"\n",
              "              title=\"Convert this dataframe to an interactive table.\"\n",
              "              style=\"display:none;\">\n",
              "        \n",
              "  <svg xmlns=\"http://www.w3.org/2000/svg\" height=\"24px\"viewBox=\"0 0 24 24\"\n",
              "       width=\"24px\">\n",
              "    <path d=\"M0 0h24v24H0V0z\" fill=\"none\"/>\n",
              "    <path d=\"M18.56 5.44l.94 2.06.94-2.06 2.06-.94-2.06-.94-.94-2.06-.94 2.06-2.06.94zm-11 1L8.5 8.5l.94-2.06 2.06-.94-2.06-.94L8.5 2.5l-.94 2.06-2.06.94zm10 10l.94 2.06.94-2.06 2.06-.94-2.06-.94-.94-2.06-.94 2.06-2.06.94z\"/><path d=\"M17.41 7.96l-1.37-1.37c-.4-.4-.92-.59-1.43-.59-.52 0-1.04.2-1.43.59L10.3 9.45l-7.72 7.72c-.78.78-.78 2.05 0 2.83L4 21.41c.39.39.9.59 1.41.59.51 0 1.02-.2 1.41-.59l7.78-7.78 2.81-2.81c.8-.78.8-2.07 0-2.86zM5.41 20L4 18.59l7.72-7.72 1.47 1.35L5.41 20z\"/>\n",
              "  </svg>\n",
              "      </button>\n",
              "      \n",
              "  <style>\n",
              "    .colab-df-container {\n",
              "      display:flex;\n",
              "      flex-wrap:wrap;\n",
              "      gap: 12px;\n",
              "    }\n",
              "\n",
              "    .colab-df-convert {\n",
              "      background-color: #E8F0FE;\n",
              "      border: none;\n",
              "      border-radius: 50%;\n",
              "      cursor: pointer;\n",
              "      display: none;\n",
              "      fill: #1967D2;\n",
              "      height: 32px;\n",
              "      padding: 0 0 0 0;\n",
              "      width: 32px;\n",
              "    }\n",
              "\n",
              "    .colab-df-convert:hover {\n",
              "      background-color: #E2EBFA;\n",
              "      box-shadow: 0px 1px 2px rgba(60, 64, 67, 0.3), 0px 1px 3px 1px rgba(60, 64, 67, 0.15);\n",
              "      fill: #174EA6;\n",
              "    }\n",
              "\n",
              "    [theme=dark] .colab-df-convert {\n",
              "      background-color: #3B4455;\n",
              "      fill: #D2E3FC;\n",
              "    }\n",
              "\n",
              "    [theme=dark] .colab-df-convert:hover {\n",
              "      background-color: #434B5C;\n",
              "      box-shadow: 0px 1px 3px 1px rgba(0, 0, 0, 0.15);\n",
              "      filter: drop-shadow(0px 1px 2px rgba(0, 0, 0, 0.3));\n",
              "      fill: #FFFFFF;\n",
              "    }\n",
              "  </style>\n",
              "\n",
              "      <script>\n",
              "        const buttonEl =\n",
              "          document.querySelector('#df-0e27b5fc-ebad-48a7-bc07-5bc4198a2fbd button.colab-df-convert');\n",
              "        buttonEl.style.display =\n",
              "          google.colab.kernel.accessAllowed ? 'block' : 'none';\n",
              "\n",
              "        async function convertToInteractive(key) {\n",
              "          const element = document.querySelector('#df-0e27b5fc-ebad-48a7-bc07-5bc4198a2fbd');\n",
              "          const dataTable =\n",
              "            await google.colab.kernel.invokeFunction('convertToInteractive',\n",
              "                                                     [key], {});\n",
              "          if (!dataTable) return;\n",
              "\n",
              "          const docLinkHtml = 'Like what you see? Visit the ' +\n",
              "            '<a target=\"_blank\" href=https://colab.research.google.com/notebooks/data_table.ipynb>data table notebook</a>'\n",
              "            + ' to learn more about interactive tables.';\n",
              "          element.innerHTML = '';\n",
              "          dataTable['output_type'] = 'display_data';\n",
              "          await google.colab.output.renderOutput(dataTable, element);\n",
              "          const docLink = document.createElement('div');\n",
              "          docLink.innerHTML = docLinkHtml;\n",
              "          element.appendChild(docLink);\n",
              "        }\n",
              "      </script>\n",
              "    </div>\n",
              "  </div>\n",
              "  "
            ]
          },
          "metadata": {},
          "execution_count": 91
        }
      ],
      "source": [
        "data.tail()"
      ]
    },
    {
      "cell_type": "code",
      "execution_count": null,
      "id": "d9faa402",
      "metadata": {
        "colab": {
          "base_uri": "https://localhost:8080/",
          "height": 206
        },
        "id": "d9faa402",
        "outputId": "c2be2c03-9b18-4bb6-85d6-881f25fe4388"
      },
      "outputs": [
        {
          "output_type": "execute_result",
          "data": {
            "text/plain": [
              "           Date  Open  High  Low  Close  Adj Close  Volume\n",
              "442  2021-10-04   0.8   0.8  0.8    0.8    0.02125       0\n",
              "443  2021-10-05   0.8   0.8  0.8    0.8    0.02125       0\n",
              "444  2021-10-06   0.8   0.8  0.8    0.8    0.02125       0\n",
              "445  2021-10-07   0.8   0.8  0.8    0.8    0.02125       0\n",
              "446  2021-10-08   0.8   0.8  0.8    0.8    0.02125       0"
            ],
            "text/html": [
              "\n",
              "  <div id=\"df-cb5d4377-b256-4b46-8497-cb0a585cc684\">\n",
              "    <div class=\"colab-df-container\">\n",
              "      <div>\n",
              "<style scoped>\n",
              "    .dataframe tbody tr th:only-of-type {\n",
              "        vertical-align: middle;\n",
              "    }\n",
              "\n",
              "    .dataframe tbody tr th {\n",
              "        vertical-align: top;\n",
              "    }\n",
              "\n",
              "    .dataframe thead th {\n",
              "        text-align: right;\n",
              "    }\n",
              "</style>\n",
              "<table border=\"1\" class=\"dataframe\">\n",
              "  <thead>\n",
              "    <tr style=\"text-align: right;\">\n",
              "      <th></th>\n",
              "      <th>Date</th>\n",
              "      <th>Open</th>\n",
              "      <th>High</th>\n",
              "      <th>Low</th>\n",
              "      <th>Close</th>\n",
              "      <th>Adj Close</th>\n",
              "      <th>Volume</th>\n",
              "    </tr>\n",
              "  </thead>\n",
              "  <tbody>\n",
              "    <tr>\n",
              "      <th>442</th>\n",
              "      <td>2021-10-04</td>\n",
              "      <td>0.8</td>\n",
              "      <td>0.8</td>\n",
              "      <td>0.8</td>\n",
              "      <td>0.8</td>\n",
              "      <td>0.02125</td>\n",
              "      <td>0</td>\n",
              "    </tr>\n",
              "    <tr>\n",
              "      <th>443</th>\n",
              "      <td>2021-10-05</td>\n",
              "      <td>0.8</td>\n",
              "      <td>0.8</td>\n",
              "      <td>0.8</td>\n",
              "      <td>0.8</td>\n",
              "      <td>0.02125</td>\n",
              "      <td>0</td>\n",
              "    </tr>\n",
              "    <tr>\n",
              "      <th>444</th>\n",
              "      <td>2021-10-06</td>\n",
              "      <td>0.8</td>\n",
              "      <td>0.8</td>\n",
              "      <td>0.8</td>\n",
              "      <td>0.8</td>\n",
              "      <td>0.02125</td>\n",
              "      <td>0</td>\n",
              "    </tr>\n",
              "    <tr>\n",
              "      <th>445</th>\n",
              "      <td>2021-10-07</td>\n",
              "      <td>0.8</td>\n",
              "      <td>0.8</td>\n",
              "      <td>0.8</td>\n",
              "      <td>0.8</td>\n",
              "      <td>0.02125</td>\n",
              "      <td>0</td>\n",
              "    </tr>\n",
              "    <tr>\n",
              "      <th>446</th>\n",
              "      <td>2021-10-08</td>\n",
              "      <td>0.8</td>\n",
              "      <td>0.8</td>\n",
              "      <td>0.8</td>\n",
              "      <td>0.8</td>\n",
              "      <td>0.02125</td>\n",
              "      <td>0</td>\n",
              "    </tr>\n",
              "  </tbody>\n",
              "</table>\n",
              "</div>\n",
              "      <button class=\"colab-df-convert\" onclick=\"convertToInteractive('df-cb5d4377-b256-4b46-8497-cb0a585cc684')\"\n",
              "              title=\"Convert this dataframe to an interactive table.\"\n",
              "              style=\"display:none;\">\n",
              "        \n",
              "  <svg xmlns=\"http://www.w3.org/2000/svg\" height=\"24px\"viewBox=\"0 0 24 24\"\n",
              "       width=\"24px\">\n",
              "    <path d=\"M0 0h24v24H0V0z\" fill=\"none\"/>\n",
              "    <path d=\"M18.56 5.44l.94 2.06.94-2.06 2.06-.94-2.06-.94-.94-2.06-.94 2.06-2.06.94zm-11 1L8.5 8.5l.94-2.06 2.06-.94-2.06-.94L8.5 2.5l-.94 2.06-2.06.94zm10 10l.94 2.06.94-2.06 2.06-.94-2.06-.94-.94-2.06-.94 2.06-2.06.94z\"/><path d=\"M17.41 7.96l-1.37-1.37c-.4-.4-.92-.59-1.43-.59-.52 0-1.04.2-1.43.59L10.3 9.45l-7.72 7.72c-.78.78-.78 2.05 0 2.83L4 21.41c.39.39.9.59 1.41.59.51 0 1.02-.2 1.41-.59l7.78-7.78 2.81-2.81c.8-.78.8-2.07 0-2.86zM5.41 20L4 18.59l7.72-7.72 1.47 1.35L5.41 20z\"/>\n",
              "  </svg>\n",
              "      </button>\n",
              "      \n",
              "  <style>\n",
              "    .colab-df-container {\n",
              "      display:flex;\n",
              "      flex-wrap:wrap;\n",
              "      gap: 12px;\n",
              "    }\n",
              "\n",
              "    .colab-df-convert {\n",
              "      background-color: #E8F0FE;\n",
              "      border: none;\n",
              "      border-radius: 50%;\n",
              "      cursor: pointer;\n",
              "      display: none;\n",
              "      fill: #1967D2;\n",
              "      height: 32px;\n",
              "      padding: 0 0 0 0;\n",
              "      width: 32px;\n",
              "    }\n",
              "\n",
              "    .colab-df-convert:hover {\n",
              "      background-color: #E2EBFA;\n",
              "      box-shadow: 0px 1px 2px rgba(60, 64, 67, 0.3), 0px 1px 3px 1px rgba(60, 64, 67, 0.15);\n",
              "      fill: #174EA6;\n",
              "    }\n",
              "\n",
              "    [theme=dark] .colab-df-convert {\n",
              "      background-color: #3B4455;\n",
              "      fill: #D2E3FC;\n",
              "    }\n",
              "\n",
              "    [theme=dark] .colab-df-convert:hover {\n",
              "      background-color: #434B5C;\n",
              "      box-shadow: 0px 1px 3px 1px rgba(0, 0, 0, 0.15);\n",
              "      filter: drop-shadow(0px 1px 2px rgba(0, 0, 0, 0.3));\n",
              "      fill: #FFFFFF;\n",
              "    }\n",
              "  </style>\n",
              "\n",
              "      <script>\n",
              "        const buttonEl =\n",
              "          document.querySelector('#df-cb5d4377-b256-4b46-8497-cb0a585cc684 button.colab-df-convert');\n",
              "        buttonEl.style.display =\n",
              "          google.colab.kernel.accessAllowed ? 'block' : 'none';\n",
              "\n",
              "        async function convertToInteractive(key) {\n",
              "          const element = document.querySelector('#df-cb5d4377-b256-4b46-8497-cb0a585cc684');\n",
              "          const dataTable =\n",
              "            await google.colab.kernel.invokeFunction('convertToInteractive',\n",
              "                                                     [key], {});\n",
              "          if (!dataTable) return;\n",
              "\n",
              "          const docLinkHtml = 'Like what you see? Visit the ' +\n",
              "            '<a target=\"_blank\" href=https://colab.research.google.com/notebooks/data_table.ipynb>data table notebook</a>'\n",
              "            + ' to learn more about interactive tables.';\n",
              "          element.innerHTML = '';\n",
              "          dataTable['output_type'] = 'display_data';\n",
              "          await google.colab.output.renderOutput(dataTable, element);\n",
              "          const docLink = document.createElement('div');\n",
              "          docLink.innerHTML = docLinkHtml;\n",
              "          element.appendChild(docLink);\n",
              "        }\n",
              "      </script>\n",
              "    </div>\n",
              "  </div>\n",
              "  "
            ]
          },
          "metadata": {},
          "execution_count": 92
        }
      ],
      "source": [
        "data.head()"
      ]
    },
    {
      "cell_type": "code",
      "execution_count": null,
      "id": "29888e76",
      "metadata": {
        "id": "29888e76"
      },
      "outputs": [],
      "source": [
        "train_data=data[data.iloc[:,0]<'2022-07-03']\n",
        "train_data=train_data.iloc[::-1]"
      ]
    },
    {
      "cell_type": "code",
      "execution_count": null,
      "id": "82f3dd23",
      "metadata": {
        "colab": {
          "base_uri": "https://localhost:8080/",
          "height": 206
        },
        "id": "82f3dd23",
        "outputId": "a9f83aef-8496-403c-e43a-f69388d183dc"
      },
      "outputs": [
        {
          "output_type": "execute_result",
          "data": {
            "text/plain": [
              "           Date   Open   High    Low  Close  Adj Close  Volume\n",
              "629  2022-07-01  0.825  0.825  0.825  0.825   0.104319       0\n",
              "628  2022-06-30  0.825  0.825  0.825  0.825   0.104319       0\n",
              "627  2022-06-29  0.825  0.825  0.825  0.825   0.104319       0\n",
              "626  2022-06-28  0.825  0.825  0.825  0.825   0.104319       0\n",
              "625  2022-06-27  0.825  0.825  0.825  0.825   0.104319    4429"
            ],
            "text/html": [
              "\n",
              "  <div id=\"df-5df562bf-d53d-4ee0-944b-c064c514d60d\">\n",
              "    <div class=\"colab-df-container\">\n",
              "      <div>\n",
              "<style scoped>\n",
              "    .dataframe tbody tr th:only-of-type {\n",
              "        vertical-align: middle;\n",
              "    }\n",
              "\n",
              "    .dataframe tbody tr th {\n",
              "        vertical-align: top;\n",
              "    }\n",
              "\n",
              "    .dataframe thead th {\n",
              "        text-align: right;\n",
              "    }\n",
              "</style>\n",
              "<table border=\"1\" class=\"dataframe\">\n",
              "  <thead>\n",
              "    <tr style=\"text-align: right;\">\n",
              "      <th></th>\n",
              "      <th>Date</th>\n",
              "      <th>Open</th>\n",
              "      <th>High</th>\n",
              "      <th>Low</th>\n",
              "      <th>Close</th>\n",
              "      <th>Adj Close</th>\n",
              "      <th>Volume</th>\n",
              "    </tr>\n",
              "  </thead>\n",
              "  <tbody>\n",
              "    <tr>\n",
              "      <th>629</th>\n",
              "      <td>2022-07-01</td>\n",
              "      <td>0.825</td>\n",
              "      <td>0.825</td>\n",
              "      <td>0.825</td>\n",
              "      <td>0.825</td>\n",
              "      <td>0.104319</td>\n",
              "      <td>0</td>\n",
              "    </tr>\n",
              "    <tr>\n",
              "      <th>628</th>\n",
              "      <td>2022-06-30</td>\n",
              "      <td>0.825</td>\n",
              "      <td>0.825</td>\n",
              "      <td>0.825</td>\n",
              "      <td>0.825</td>\n",
              "      <td>0.104319</td>\n",
              "      <td>0</td>\n",
              "    </tr>\n",
              "    <tr>\n",
              "      <th>627</th>\n",
              "      <td>2022-06-29</td>\n",
              "      <td>0.825</td>\n",
              "      <td>0.825</td>\n",
              "      <td>0.825</td>\n",
              "      <td>0.825</td>\n",
              "      <td>0.104319</td>\n",
              "      <td>0</td>\n",
              "    </tr>\n",
              "    <tr>\n",
              "      <th>626</th>\n",
              "      <td>2022-06-28</td>\n",
              "      <td>0.825</td>\n",
              "      <td>0.825</td>\n",
              "      <td>0.825</td>\n",
              "      <td>0.825</td>\n",
              "      <td>0.104319</td>\n",
              "      <td>0</td>\n",
              "    </tr>\n",
              "    <tr>\n",
              "      <th>625</th>\n",
              "      <td>2022-06-27</td>\n",
              "      <td>0.825</td>\n",
              "      <td>0.825</td>\n",
              "      <td>0.825</td>\n",
              "      <td>0.825</td>\n",
              "      <td>0.104319</td>\n",
              "      <td>4429</td>\n",
              "    </tr>\n",
              "  </tbody>\n",
              "</table>\n",
              "</div>\n",
              "      <button class=\"colab-df-convert\" onclick=\"convertToInteractive('df-5df562bf-d53d-4ee0-944b-c064c514d60d')\"\n",
              "              title=\"Convert this dataframe to an interactive table.\"\n",
              "              style=\"display:none;\">\n",
              "        \n",
              "  <svg xmlns=\"http://www.w3.org/2000/svg\" height=\"24px\"viewBox=\"0 0 24 24\"\n",
              "       width=\"24px\">\n",
              "    <path d=\"M0 0h24v24H0V0z\" fill=\"none\"/>\n",
              "    <path d=\"M18.56 5.44l.94 2.06.94-2.06 2.06-.94-2.06-.94-.94-2.06-.94 2.06-2.06.94zm-11 1L8.5 8.5l.94-2.06 2.06-.94-2.06-.94L8.5 2.5l-.94 2.06-2.06.94zm10 10l.94 2.06.94-2.06 2.06-.94-2.06-.94-.94-2.06-.94 2.06-2.06.94z\"/><path d=\"M17.41 7.96l-1.37-1.37c-.4-.4-.92-.59-1.43-.59-.52 0-1.04.2-1.43.59L10.3 9.45l-7.72 7.72c-.78.78-.78 2.05 0 2.83L4 21.41c.39.39.9.59 1.41.59.51 0 1.02-.2 1.41-.59l7.78-7.78 2.81-2.81c.8-.78.8-2.07 0-2.86zM5.41 20L4 18.59l7.72-7.72 1.47 1.35L5.41 20z\"/>\n",
              "  </svg>\n",
              "      </button>\n",
              "      \n",
              "  <style>\n",
              "    .colab-df-container {\n",
              "      display:flex;\n",
              "      flex-wrap:wrap;\n",
              "      gap: 12px;\n",
              "    }\n",
              "\n",
              "    .colab-df-convert {\n",
              "      background-color: #E8F0FE;\n",
              "      border: none;\n",
              "      border-radius: 50%;\n",
              "      cursor: pointer;\n",
              "      display: none;\n",
              "      fill: #1967D2;\n",
              "      height: 32px;\n",
              "      padding: 0 0 0 0;\n",
              "      width: 32px;\n",
              "    }\n",
              "\n",
              "    .colab-df-convert:hover {\n",
              "      background-color: #E2EBFA;\n",
              "      box-shadow: 0px 1px 2px rgba(60, 64, 67, 0.3), 0px 1px 3px 1px rgba(60, 64, 67, 0.15);\n",
              "      fill: #174EA6;\n",
              "    }\n",
              "\n",
              "    [theme=dark] .colab-df-convert {\n",
              "      background-color: #3B4455;\n",
              "      fill: #D2E3FC;\n",
              "    }\n",
              "\n",
              "    [theme=dark] .colab-df-convert:hover {\n",
              "      background-color: #434B5C;\n",
              "      box-shadow: 0px 1px 3px 1px rgba(0, 0, 0, 0.15);\n",
              "      filter: drop-shadow(0px 1px 2px rgba(0, 0, 0, 0.3));\n",
              "      fill: #FFFFFF;\n",
              "    }\n",
              "  </style>\n",
              "\n",
              "      <script>\n",
              "        const buttonEl =\n",
              "          document.querySelector('#df-5df562bf-d53d-4ee0-944b-c064c514d60d button.colab-df-convert');\n",
              "        buttonEl.style.display =\n",
              "          google.colab.kernel.accessAllowed ? 'block' : 'none';\n",
              "\n",
              "        async function convertToInteractive(key) {\n",
              "          const element = document.querySelector('#df-5df562bf-d53d-4ee0-944b-c064c514d60d');\n",
              "          const dataTable =\n",
              "            await google.colab.kernel.invokeFunction('convertToInteractive',\n",
              "                                                     [key], {});\n",
              "          if (!dataTable) return;\n",
              "\n",
              "          const docLinkHtml = 'Like what you see? Visit the ' +\n",
              "            '<a target=\"_blank\" href=https://colab.research.google.com/notebooks/data_table.ipynb>data table notebook</a>'\n",
              "            + ' to learn more about interactive tables.';\n",
              "          element.innerHTML = '';\n",
              "          dataTable['output_type'] = 'display_data';\n",
              "          await google.colab.output.renderOutput(dataTable, element);\n",
              "          const docLink = document.createElement('div');\n",
              "          docLink.innerHTML = docLinkHtml;\n",
              "          element.appendChild(docLink);\n",
              "        }\n",
              "      </script>\n",
              "    </div>\n",
              "  </div>\n",
              "  "
            ]
          },
          "metadata": {},
          "execution_count": 94
        }
      ],
      "source": [
        "train_data.head()"
      ]
    },
    {
      "cell_type": "code",
      "execution_count": null,
      "id": "0ad49de2",
      "metadata": {
        "colab": {
          "base_uri": "https://localhost:8080/",
          "height": 206
        },
        "id": "0ad49de2",
        "outputId": "83ff92b9-a3ed-4621-f714-c7677b97d9c0"
      },
      "outputs": [
        {
          "output_type": "execute_result",
          "data": {
            "text/plain": [
              "           Date  Open  High  Low  Close  Adj Close  Volume\n",
              "446  2021-10-08   0.8   0.8  0.8    0.8    0.02125       0\n",
              "445  2021-10-07   0.8   0.8  0.8    0.8    0.02125       0\n",
              "444  2021-10-06   0.8   0.8  0.8    0.8    0.02125       0\n",
              "443  2021-10-05   0.8   0.8  0.8    0.8    0.02125       0\n",
              "442  2021-10-04   0.8   0.8  0.8    0.8    0.02125       0"
            ],
            "text/html": [
              "\n",
              "  <div id=\"df-29a2334d-f114-4c2d-a88d-d6314bd18e33\">\n",
              "    <div class=\"colab-df-container\">\n",
              "      <div>\n",
              "<style scoped>\n",
              "    .dataframe tbody tr th:only-of-type {\n",
              "        vertical-align: middle;\n",
              "    }\n",
              "\n",
              "    .dataframe tbody tr th {\n",
              "        vertical-align: top;\n",
              "    }\n",
              "\n",
              "    .dataframe thead th {\n",
              "        text-align: right;\n",
              "    }\n",
              "</style>\n",
              "<table border=\"1\" class=\"dataframe\">\n",
              "  <thead>\n",
              "    <tr style=\"text-align: right;\">\n",
              "      <th></th>\n",
              "      <th>Date</th>\n",
              "      <th>Open</th>\n",
              "      <th>High</th>\n",
              "      <th>Low</th>\n",
              "      <th>Close</th>\n",
              "      <th>Adj Close</th>\n",
              "      <th>Volume</th>\n",
              "    </tr>\n",
              "  </thead>\n",
              "  <tbody>\n",
              "    <tr>\n",
              "      <th>446</th>\n",
              "      <td>2021-10-08</td>\n",
              "      <td>0.8</td>\n",
              "      <td>0.8</td>\n",
              "      <td>0.8</td>\n",
              "      <td>0.8</td>\n",
              "      <td>0.02125</td>\n",
              "      <td>0</td>\n",
              "    </tr>\n",
              "    <tr>\n",
              "      <th>445</th>\n",
              "      <td>2021-10-07</td>\n",
              "      <td>0.8</td>\n",
              "      <td>0.8</td>\n",
              "      <td>0.8</td>\n",
              "      <td>0.8</td>\n",
              "      <td>0.02125</td>\n",
              "      <td>0</td>\n",
              "    </tr>\n",
              "    <tr>\n",
              "      <th>444</th>\n",
              "      <td>2021-10-06</td>\n",
              "      <td>0.8</td>\n",
              "      <td>0.8</td>\n",
              "      <td>0.8</td>\n",
              "      <td>0.8</td>\n",
              "      <td>0.02125</td>\n",
              "      <td>0</td>\n",
              "    </tr>\n",
              "    <tr>\n",
              "      <th>443</th>\n",
              "      <td>2021-10-05</td>\n",
              "      <td>0.8</td>\n",
              "      <td>0.8</td>\n",
              "      <td>0.8</td>\n",
              "      <td>0.8</td>\n",
              "      <td>0.02125</td>\n",
              "      <td>0</td>\n",
              "    </tr>\n",
              "    <tr>\n",
              "      <th>442</th>\n",
              "      <td>2021-10-04</td>\n",
              "      <td>0.8</td>\n",
              "      <td>0.8</td>\n",
              "      <td>0.8</td>\n",
              "      <td>0.8</td>\n",
              "      <td>0.02125</td>\n",
              "      <td>0</td>\n",
              "    </tr>\n",
              "  </tbody>\n",
              "</table>\n",
              "</div>\n",
              "      <button class=\"colab-df-convert\" onclick=\"convertToInteractive('df-29a2334d-f114-4c2d-a88d-d6314bd18e33')\"\n",
              "              title=\"Convert this dataframe to an interactive table.\"\n",
              "              style=\"display:none;\">\n",
              "        \n",
              "  <svg xmlns=\"http://www.w3.org/2000/svg\" height=\"24px\"viewBox=\"0 0 24 24\"\n",
              "       width=\"24px\">\n",
              "    <path d=\"M0 0h24v24H0V0z\" fill=\"none\"/>\n",
              "    <path d=\"M18.56 5.44l.94 2.06.94-2.06 2.06-.94-2.06-.94-.94-2.06-.94 2.06-2.06.94zm-11 1L8.5 8.5l.94-2.06 2.06-.94-2.06-.94L8.5 2.5l-.94 2.06-2.06.94zm10 10l.94 2.06.94-2.06 2.06-.94-2.06-.94-.94-2.06-.94 2.06-2.06.94z\"/><path d=\"M17.41 7.96l-1.37-1.37c-.4-.4-.92-.59-1.43-.59-.52 0-1.04.2-1.43.59L10.3 9.45l-7.72 7.72c-.78.78-.78 2.05 0 2.83L4 21.41c.39.39.9.59 1.41.59.51 0 1.02-.2 1.41-.59l7.78-7.78 2.81-2.81c.8-.78.8-2.07 0-2.86zM5.41 20L4 18.59l7.72-7.72 1.47 1.35L5.41 20z\"/>\n",
              "  </svg>\n",
              "      </button>\n",
              "      \n",
              "  <style>\n",
              "    .colab-df-container {\n",
              "      display:flex;\n",
              "      flex-wrap:wrap;\n",
              "      gap: 12px;\n",
              "    }\n",
              "\n",
              "    .colab-df-convert {\n",
              "      background-color: #E8F0FE;\n",
              "      border: none;\n",
              "      border-radius: 50%;\n",
              "      cursor: pointer;\n",
              "      display: none;\n",
              "      fill: #1967D2;\n",
              "      height: 32px;\n",
              "      padding: 0 0 0 0;\n",
              "      width: 32px;\n",
              "    }\n",
              "\n",
              "    .colab-df-convert:hover {\n",
              "      background-color: #E2EBFA;\n",
              "      box-shadow: 0px 1px 2px rgba(60, 64, 67, 0.3), 0px 1px 3px 1px rgba(60, 64, 67, 0.15);\n",
              "      fill: #174EA6;\n",
              "    }\n",
              "\n",
              "    [theme=dark] .colab-df-convert {\n",
              "      background-color: #3B4455;\n",
              "      fill: #D2E3FC;\n",
              "    }\n",
              "\n",
              "    [theme=dark] .colab-df-convert:hover {\n",
              "      background-color: #434B5C;\n",
              "      box-shadow: 0px 1px 3px 1px rgba(0, 0, 0, 0.15);\n",
              "      filter: drop-shadow(0px 1px 2px rgba(0, 0, 0, 0.3));\n",
              "      fill: #FFFFFF;\n",
              "    }\n",
              "  </style>\n",
              "\n",
              "      <script>\n",
              "        const buttonEl =\n",
              "          document.querySelector('#df-29a2334d-f114-4c2d-a88d-d6314bd18e33 button.colab-df-convert');\n",
              "        buttonEl.style.display =\n",
              "          google.colab.kernel.accessAllowed ? 'block' : 'none';\n",
              "\n",
              "        async function convertToInteractive(key) {\n",
              "          const element = document.querySelector('#df-29a2334d-f114-4c2d-a88d-d6314bd18e33');\n",
              "          const dataTable =\n",
              "            await google.colab.kernel.invokeFunction('convertToInteractive',\n",
              "                                                     [key], {});\n",
              "          if (!dataTable) return;\n",
              "\n",
              "          const docLinkHtml = 'Like what you see? Visit the ' +\n",
              "            '<a target=\"_blank\" href=https://colab.research.google.com/notebooks/data_table.ipynb>data table notebook</a>'\n",
              "            + ' to learn more about interactive tables.';\n",
              "          element.innerHTML = '';\n",
              "          dataTable['output_type'] = 'display_data';\n",
              "          await google.colab.output.renderOutput(dataTable, element);\n",
              "          const docLink = document.createElement('div');\n",
              "          docLink.innerHTML = docLinkHtml;\n",
              "          element.appendChild(docLink);\n",
              "        }\n",
              "      </script>\n",
              "    </div>\n",
              "  </div>\n",
              "  "
            ]
          },
          "metadata": {},
          "execution_count": 95
        }
      ],
      "source": [
        "train_data.tail()"
      ]
    },
    {
      "cell_type": "code",
      "execution_count": null,
      "id": "322cccde",
      "metadata": {
        "colab": {
          "base_uri": "https://localhost:8080/"
        },
        "id": "322cccde",
        "outputId": "ac71ffb3-1ef6-4ef3-8c1f-fa792c954874"
      },
      "outputs": [
        {
          "output_type": "execute_result",
          "data": {
            "text/plain": [
              "(188, 7)"
            ]
          },
          "metadata": {},
          "execution_count": 96
        }
      ],
      "source": [
        "train_data.shape"
      ]
    },
    {
      "cell_type": "code",
      "execution_count": null,
      "id": "10aa435a",
      "metadata": {
        "id": "10aa435a"
      },
      "outputs": [],
      "source": [
        "test_data=data[data.iloc[:,0]>='2022-07-03']"
      ]
    },
    {
      "cell_type": "code",
      "execution_count": null,
      "id": "4dcbf4d4",
      "metadata": {
        "colab": {
          "base_uri": "https://localhost:8080/",
          "height": 206
        },
        "id": "4dcbf4d4",
        "outputId": "555df7b1-f6b4-4011-d8f5-3ae012513165"
      },
      "outputs": [
        {
          "output_type": "execute_result",
          "data": {
            "text/plain": [
              "           Date   Open   High    Low  Close  Adj Close  Volume\n",
              "634  2022-07-11  0.825  0.825  0.825  0.825   0.104319       0\n",
              "633  2022-07-08  0.825  0.825  0.825  0.825   0.104319       0\n",
              "632  2022-07-07  0.825  0.825  0.825  0.825   0.104319       0\n",
              "631  2022-07-06  0.825  0.825  0.825  0.825   0.104319       0\n",
              "630  2022-07-05  0.825  0.825  0.825  0.825   0.104319   43787"
            ],
            "text/html": [
              "\n",
              "  <div id=\"df-2c197a42-d2a0-45b5-ac67-f1def426570c\">\n",
              "    <div class=\"colab-df-container\">\n",
              "      <div>\n",
              "<style scoped>\n",
              "    .dataframe tbody tr th:only-of-type {\n",
              "        vertical-align: middle;\n",
              "    }\n",
              "\n",
              "    .dataframe tbody tr th {\n",
              "        vertical-align: top;\n",
              "    }\n",
              "\n",
              "    .dataframe thead th {\n",
              "        text-align: right;\n",
              "    }\n",
              "</style>\n",
              "<table border=\"1\" class=\"dataframe\">\n",
              "  <thead>\n",
              "    <tr style=\"text-align: right;\">\n",
              "      <th></th>\n",
              "      <th>Date</th>\n",
              "      <th>Open</th>\n",
              "      <th>High</th>\n",
              "      <th>Low</th>\n",
              "      <th>Close</th>\n",
              "      <th>Adj Close</th>\n",
              "      <th>Volume</th>\n",
              "    </tr>\n",
              "  </thead>\n",
              "  <tbody>\n",
              "    <tr>\n",
              "      <th>634</th>\n",
              "      <td>2022-07-11</td>\n",
              "      <td>0.825</td>\n",
              "      <td>0.825</td>\n",
              "      <td>0.825</td>\n",
              "      <td>0.825</td>\n",
              "      <td>0.104319</td>\n",
              "      <td>0</td>\n",
              "    </tr>\n",
              "    <tr>\n",
              "      <th>633</th>\n",
              "      <td>2022-07-08</td>\n",
              "      <td>0.825</td>\n",
              "      <td>0.825</td>\n",
              "      <td>0.825</td>\n",
              "      <td>0.825</td>\n",
              "      <td>0.104319</td>\n",
              "      <td>0</td>\n",
              "    </tr>\n",
              "    <tr>\n",
              "      <th>632</th>\n",
              "      <td>2022-07-07</td>\n",
              "      <td>0.825</td>\n",
              "      <td>0.825</td>\n",
              "      <td>0.825</td>\n",
              "      <td>0.825</td>\n",
              "      <td>0.104319</td>\n",
              "      <td>0</td>\n",
              "    </tr>\n",
              "    <tr>\n",
              "      <th>631</th>\n",
              "      <td>2022-07-06</td>\n",
              "      <td>0.825</td>\n",
              "      <td>0.825</td>\n",
              "      <td>0.825</td>\n",
              "      <td>0.825</td>\n",
              "      <td>0.104319</td>\n",
              "      <td>0</td>\n",
              "    </tr>\n",
              "    <tr>\n",
              "      <th>630</th>\n",
              "      <td>2022-07-05</td>\n",
              "      <td>0.825</td>\n",
              "      <td>0.825</td>\n",
              "      <td>0.825</td>\n",
              "      <td>0.825</td>\n",
              "      <td>0.104319</td>\n",
              "      <td>43787</td>\n",
              "    </tr>\n",
              "  </tbody>\n",
              "</table>\n",
              "</div>\n",
              "      <button class=\"colab-df-convert\" onclick=\"convertToInteractive('df-2c197a42-d2a0-45b5-ac67-f1def426570c')\"\n",
              "              title=\"Convert this dataframe to an interactive table.\"\n",
              "              style=\"display:none;\">\n",
              "        \n",
              "  <svg xmlns=\"http://www.w3.org/2000/svg\" height=\"24px\"viewBox=\"0 0 24 24\"\n",
              "       width=\"24px\">\n",
              "    <path d=\"M0 0h24v24H0V0z\" fill=\"none\"/>\n",
              "    <path d=\"M18.56 5.44l.94 2.06.94-2.06 2.06-.94-2.06-.94-.94-2.06-.94 2.06-2.06.94zm-11 1L8.5 8.5l.94-2.06 2.06-.94-2.06-.94L8.5 2.5l-.94 2.06-2.06.94zm10 10l.94 2.06.94-2.06 2.06-.94-2.06-.94-.94-2.06-.94 2.06-2.06.94z\"/><path d=\"M17.41 7.96l-1.37-1.37c-.4-.4-.92-.59-1.43-.59-.52 0-1.04.2-1.43.59L10.3 9.45l-7.72 7.72c-.78.78-.78 2.05 0 2.83L4 21.41c.39.39.9.59 1.41.59.51 0 1.02-.2 1.41-.59l7.78-7.78 2.81-2.81c.8-.78.8-2.07 0-2.86zM5.41 20L4 18.59l7.72-7.72 1.47 1.35L5.41 20z\"/>\n",
              "  </svg>\n",
              "      </button>\n",
              "      \n",
              "  <style>\n",
              "    .colab-df-container {\n",
              "      display:flex;\n",
              "      flex-wrap:wrap;\n",
              "      gap: 12px;\n",
              "    }\n",
              "\n",
              "    .colab-df-convert {\n",
              "      background-color: #E8F0FE;\n",
              "      border: none;\n",
              "      border-radius: 50%;\n",
              "      cursor: pointer;\n",
              "      display: none;\n",
              "      fill: #1967D2;\n",
              "      height: 32px;\n",
              "      padding: 0 0 0 0;\n",
              "      width: 32px;\n",
              "    }\n",
              "\n",
              "    .colab-df-convert:hover {\n",
              "      background-color: #E2EBFA;\n",
              "      box-shadow: 0px 1px 2px rgba(60, 64, 67, 0.3), 0px 1px 3px 1px rgba(60, 64, 67, 0.15);\n",
              "      fill: #174EA6;\n",
              "    }\n",
              "\n",
              "    [theme=dark] .colab-df-convert {\n",
              "      background-color: #3B4455;\n",
              "      fill: #D2E3FC;\n",
              "    }\n",
              "\n",
              "    [theme=dark] .colab-df-convert:hover {\n",
              "      background-color: #434B5C;\n",
              "      box-shadow: 0px 1px 3px 1px rgba(0, 0, 0, 0.15);\n",
              "      filter: drop-shadow(0px 1px 2px rgba(0, 0, 0, 0.3));\n",
              "      fill: #FFFFFF;\n",
              "    }\n",
              "  </style>\n",
              "\n",
              "      <script>\n",
              "        const buttonEl =\n",
              "          document.querySelector('#df-2c197a42-d2a0-45b5-ac67-f1def426570c button.colab-df-convert');\n",
              "        buttonEl.style.display =\n",
              "          google.colab.kernel.accessAllowed ? 'block' : 'none';\n",
              "\n",
              "        async function convertToInteractive(key) {\n",
              "          const element = document.querySelector('#df-2c197a42-d2a0-45b5-ac67-f1def426570c');\n",
              "          const dataTable =\n",
              "            await google.colab.kernel.invokeFunction('convertToInteractive',\n",
              "                                                     [key], {});\n",
              "          if (!dataTable) return;\n",
              "\n",
              "          const docLinkHtml = 'Like what you see? Visit the ' +\n",
              "            '<a target=\"_blank\" href=https://colab.research.google.com/notebooks/data_table.ipynb>data table notebook</a>'\n",
              "            + ' to learn more about interactive tables.';\n",
              "          element.innerHTML = '';\n",
              "          dataTable['output_type'] = 'display_data';\n",
              "          await google.colab.output.renderOutput(dataTable, element);\n",
              "          const docLink = document.createElement('div');\n",
              "          docLink.innerHTML = docLinkHtml;\n",
              "          element.appendChild(docLink);\n",
              "        }\n",
              "      </script>\n",
              "    </div>\n",
              "  </div>\n",
              "  "
            ]
          },
          "metadata": {},
          "execution_count": 98
        }
      ],
      "source": [
        "test_data=test_data.iloc[::-1]\n",
        "test_data.tail()"
      ]
    },
    {
      "cell_type": "code",
      "execution_count": null,
      "id": "071eac4a",
      "metadata": {
        "id": "071eac4a"
      },
      "outputs": [],
      "source": [
        "training_set = train_data.iloc[:, 1:2].values\n",
        "#training_set"
      ]
    },
    {
      "cell_type": "code",
      "execution_count": null,
      "id": "92542ef5",
      "metadata": {
        "colab": {
          "base_uri": "https://localhost:8080/"
        },
        "id": "92542ef5",
        "outputId": "2965a8d4-5a2a-442a-fb13-70c9dacc5663"
      },
      "outputs": [
        {
          "output_type": "execute_result",
          "data": {
            "text/plain": [
              "array([[0.825],\n",
              "       [0.825],\n",
              "       [0.825],\n",
              "       [0.825],\n",
              "       [0.825],\n",
              "       [1.   ],\n",
              "       [1.   ],\n",
              "       [1.   ],\n",
              "       [1.   ],\n",
              "       [1.   ],\n",
              "       [1.   ],\n",
              "       [1.   ],\n",
              "       [1.   ],\n",
              "       [1.   ],\n",
              "       [1.   ],\n",
              "       [1.   ],\n",
              "       [1.   ],\n",
              "       [1.   ],\n",
              "       [1.   ],\n",
              "       [1.   ],\n",
              "       [1.   ],\n",
              "       [1.   ],\n",
              "       [1.   ],\n",
              "       [1.   ],\n",
              "       [1.   ],\n",
              "       [1.   ],\n",
              "       [1.   ],\n",
              "       [1.   ],\n",
              "       [1.   ],\n",
              "       [1.   ],\n",
              "       [1.   ],\n",
              "       [1.   ],\n",
              "       [1.   ],\n",
              "       [1.   ],\n",
              "       [1.   ],\n",
              "       [1.   ],\n",
              "       [1.   ],\n",
              "       [1.   ],\n",
              "       [1.   ],\n",
              "       [1.   ],\n",
              "       [1.   ],\n",
              "       [1.   ],\n",
              "       [1.   ],\n",
              "       [1.   ],\n",
              "       [1.   ],\n",
              "       [1.   ],\n",
              "       [1.   ],\n",
              "       [1.   ],\n",
              "       [1.   ],\n",
              "       [1.   ],\n",
              "       [0.96 ],\n",
              "       [0.96 ],\n",
              "       [0.96 ],\n",
              "       [0.96 ],\n",
              "       [0.96 ],\n",
              "       [0.96 ],\n",
              "       [0.96 ],\n",
              "       [0.96 ],\n",
              "       [0.96 ],\n",
              "       [0.96 ],\n",
              "       [0.96 ],\n",
              "       [0.96 ],\n",
              "       [0.96 ],\n",
              "       [0.96 ],\n",
              "       [0.96 ],\n",
              "       [0.96 ],\n",
              "       [0.96 ],\n",
              "       [0.96 ],\n",
              "       [0.96 ],\n",
              "       [0.96 ],\n",
              "       [0.96 ],\n",
              "       [0.96 ],\n",
              "       [0.96 ],\n",
              "       [0.96 ],\n",
              "       [0.96 ],\n",
              "       [0.96 ],\n",
              "       [0.96 ],\n",
              "       [0.96 ],\n",
              "       [0.96 ],\n",
              "       [0.96 ],\n",
              "       [0.96 ],\n",
              "       [0.96 ],\n",
              "       [0.96 ],\n",
              "       [0.96 ],\n",
              "       [0.96 ],\n",
              "       [0.96 ],\n",
              "       [0.96 ],\n",
              "       [0.96 ],\n",
              "       [0.96 ],\n",
              "       [0.96 ],\n",
              "       [0.96 ],\n",
              "       [0.96 ],\n",
              "       [0.96 ],\n",
              "       [0.96 ],\n",
              "       [0.96 ],\n",
              "       [0.96 ],\n",
              "       [0.96 ],\n",
              "       [0.96 ],\n",
              "       [0.96 ],\n",
              "       [0.96 ],\n",
              "       [0.96 ],\n",
              "       [0.96 ],\n",
              "       [0.96 ],\n",
              "       [0.96 ],\n",
              "       [0.96 ],\n",
              "       [0.96 ],\n",
              "       [0.96 ],\n",
              "       [0.96 ],\n",
              "       [0.96 ],\n",
              "       [0.96 ],\n",
              "       [0.96 ],\n",
              "       [0.96 ],\n",
              "       [0.96 ],\n",
              "       [0.96 ],\n",
              "       [0.96 ],\n",
              "       [0.96 ],\n",
              "       [0.96 ],\n",
              "       [0.96 ],\n",
              "       [0.96 ],\n",
              "       [0.96 ],\n",
              "       [0.96 ],\n",
              "       [0.96 ],\n",
              "       [0.96 ],\n",
              "       [0.96 ],\n",
              "       [0.96 ],\n",
              "       [0.96 ],\n",
              "       [0.96 ],\n",
              "       [0.96 ],\n",
              "       [0.96 ],\n",
              "       [0.96 ],\n",
              "       [0.96 ],\n",
              "       [0.96 ],\n",
              "       [0.96 ],\n",
              "       [0.96 ],\n",
              "       [0.96 ],\n",
              "       [0.96 ],\n",
              "       [0.96 ],\n",
              "       [0.96 ],\n",
              "       [0.96 ],\n",
              "       [0.96 ],\n",
              "       [0.96 ],\n",
              "       [0.96 ],\n",
              "       [0.96 ],\n",
              "       [0.96 ],\n",
              "       [0.96 ],\n",
              "       [0.96 ],\n",
              "       [0.96 ],\n",
              "       [0.96 ],\n",
              "       [0.96 ],\n",
              "       [0.96 ],\n",
              "       [0.96 ],\n",
              "       [0.96 ],\n",
              "       [0.8  ],\n",
              "       [0.8  ],\n",
              "       [0.8  ],\n",
              "       [0.8  ],\n",
              "       [0.8  ],\n",
              "       [0.8  ],\n",
              "       [0.8  ],\n",
              "       [0.8  ],\n",
              "       [0.8  ],\n",
              "       [0.8  ],\n",
              "       [0.8  ],\n",
              "       [0.8  ],\n",
              "       [0.8  ],\n",
              "       [0.8  ],\n",
              "       [0.8  ],\n",
              "       [0.8  ],\n",
              "       [0.8  ],\n",
              "       [0.8  ],\n",
              "       [0.8  ],\n",
              "       [0.8  ],\n",
              "       [0.8  ],\n",
              "       [0.8  ],\n",
              "       [0.8  ],\n",
              "       [0.8  ],\n",
              "       [0.8  ],\n",
              "       [0.8  ],\n",
              "       [0.8  ],\n",
              "       [0.8  ],\n",
              "       [0.8  ],\n",
              "       [0.8  ],\n",
              "       [0.8  ],\n",
              "       [0.8  ],\n",
              "       [0.8  ],\n",
              "       [0.8  ],\n",
              "       [0.8  ],\n",
              "       [0.8  ]])"
            ]
          },
          "metadata": {},
          "execution_count": 100
        }
      ],
      "source": [
        "#import numpy as np\n",
        "#training_set=np.flipud(training_set) \n",
        "training_set"
      ]
    },
    {
      "cell_type": "code",
      "execution_count": null,
      "id": "ba514c9f",
      "metadata": {
        "id": "ba514c9f"
      },
      "outputs": [],
      "source": [
        "real_stock_price = test_data.iloc[:, 1:2].values"
      ]
    },
    {
      "cell_type": "code",
      "execution_count": null,
      "id": "ee0f6e01",
      "metadata": {
        "colab": {
          "base_uri": "https://localhost:8080/"
        },
        "id": "ee0f6e01",
        "outputId": "37b6fb19-889a-4f94-b4d4-2ee8a99a03f3"
      },
      "outputs": [
        {
          "output_type": "execute_result",
          "data": {
            "text/plain": [
              "array([[0.8405],\n",
              "       [0.8405],\n",
              "       [0.8405],\n",
              "       [0.8405],\n",
              "       [0.8405],\n",
              "       [0.9165],\n",
              "       [0.9165],\n",
              "       [0.9165],\n",
              "       [0.9165],\n",
              "       [0.9165],\n",
              "       [0.9165],\n",
              "       [0.9165],\n",
              "       [0.9074],\n",
              "       [0.9158],\n",
              "       [0.9158],\n",
              "       [0.9158],\n",
              "       [0.9158],\n",
              "       [0.9158],\n",
              "       [0.9158],\n",
              "       [0.9158],\n",
              "       [0.9158],\n",
              "       [0.9158],\n",
              "       [0.9158],\n",
              "       [0.9158],\n",
              "       [0.9158],\n",
              "       [0.9158],\n",
              "       [0.9158],\n",
              "       [0.9158],\n",
              "       [0.825 ],\n",
              "       [0.825 ],\n",
              "       [0.825 ],\n",
              "       [0.825 ],\n",
              "       [0.825 ],\n",
              "       [0.825 ],\n",
              "       [0.825 ],\n",
              "       [0.825 ],\n",
              "       [0.825 ],\n",
              "       [0.825 ],\n",
              "       [0.825 ],\n",
              "       [0.825 ],\n",
              "       [0.825 ],\n",
              "       [0.825 ],\n",
              "       [0.825 ],\n",
              "       [0.825 ],\n",
              "       [0.825 ],\n",
              "       [0.825 ],\n",
              "       [0.825 ],\n",
              "       [0.825 ],\n",
              "       [0.825 ],\n",
              "       [0.825 ],\n",
              "       [0.825 ],\n",
              "       [0.825 ],\n",
              "       [0.825 ],\n",
              "       [0.825 ],\n",
              "       [0.825 ],\n",
              "       [0.825 ],\n",
              "       [0.825 ],\n",
              "       [0.825 ],\n",
              "       [0.825 ],\n",
              "       [0.825 ],\n",
              "       [0.825 ],\n",
              "       [0.825 ],\n",
              "       [0.825 ],\n",
              "       [0.825 ],\n",
              "       [0.825 ],\n",
              "       [0.825 ],\n",
              "       [0.825 ],\n",
              "       [0.825 ]])"
            ]
          },
          "metadata": {},
          "execution_count": 102
        }
      ],
      "source": [
        "real_stock_price\n",
        "#real_stock_price=np.flipud(real_stock_price)"
      ]
    },
    {
      "cell_type": "code",
      "execution_count": null,
      "id": "231bba45",
      "metadata": {
        "id": "231bba45"
      },
      "outputs": [],
      "source": [
        "from sklearn.preprocessing import MinMaxScaler\n",
        "sc = MinMaxScaler(feature_range = (0, 1))\n",
        "training_set_scaled = sc.fit_transform(training_set)"
      ]
    },
    {
      "cell_type": "code",
      "execution_count": null,
      "id": "27badfaa",
      "metadata": {
        "colab": {
          "base_uri": "https://localhost:8080/"
        },
        "id": "27badfaa",
        "outputId": "b3ae6ff2-d42d-4e63-d89c-6cc7df9c5935"
      },
      "outputs": [
        {
          "output_type": "execute_result",
          "data": {
            "text/plain": [
              "(188, 1)"
            ]
          },
          "metadata": {},
          "execution_count": 104
        }
      ],
      "source": [
        "training_set_scaled.shape"
      ]
    },
    {
      "cell_type": "code",
      "execution_count": null,
      "id": "5b36061d",
      "metadata": {
        "id": "5b36061d"
      },
      "outputs": [],
      "source": [
        "import numpy as np\n",
        "X_train = []\n",
        "y_train = []\n",
        "for i in range(63, 183):\n",
        "    X_train.append(training_set_scaled[i-63:i, 0])\n",
        "    y_train.append(training_set_scaled[i, 0])\n",
        "X_train, y_train = np.array(X_train), np.array(y_train)"
      ]
    },
    {
      "cell_type": "code",
      "execution_count": null,
      "id": "888caa7a",
      "metadata": {
        "colab": {
          "base_uri": "https://localhost:8080/"
        },
        "id": "888caa7a",
        "outputId": "0cbe40d4-f799-416a-a2e1-c03b4ef7be88"
      },
      "outputs": [
        {
          "output_type": "stream",
          "name": "stdout",
          "text": [
            "[[0.125 0.125 0.125 ... 0.8   0.8   0.8  ]\n",
            " [0.125 0.125 0.125 ... 0.8   0.8   0.8  ]\n",
            " [0.125 0.125 0.125 ... 0.8   0.8   0.8  ]\n",
            " ...\n",
            " [0.8   0.8   0.8   ... 0.    0.    0.   ]\n",
            " [0.8   0.8   0.8   ... 0.    0.    0.   ]\n",
            " [0.8   0.8   0.8   ... 0.    0.    0.   ]]\n"
          ]
        }
      ],
      "source": [
        "print(X_train)"
      ]
    },
    {
      "cell_type": "code",
      "execution_count": null,
      "id": "d086abab",
      "metadata": {
        "colab": {
          "base_uri": "https://localhost:8080/"
        },
        "id": "d086abab",
        "outputId": "12eb8c75-0717-4d0b-e67b-38bf7e342d44"
      },
      "outputs": [
        {
          "output_type": "stream",
          "name": "stdout",
          "text": [
            "[0.8 0.8 0.8 0.8 0.8 0.8 0.8 0.8 0.8 0.8 0.8 0.8 0.8 0.8 0.8 0.8 0.8 0.8\n",
            " 0.8 0.8 0.8 0.8 0.8 0.8 0.8 0.8 0.8 0.8 0.8 0.8 0.8 0.8 0.8 0.8 0.8 0.8\n",
            " 0.8 0.8 0.8 0.8 0.8 0.8 0.8 0.8 0.8 0.8 0.8 0.8 0.8 0.8 0.8 0.8 0.8 0.8\n",
            " 0.8 0.8 0.8 0.8 0.8 0.8 0.8 0.8 0.8 0.8 0.8 0.8 0.8 0.8 0.8 0.8 0.8 0.8\n",
            " 0.8 0.8 0.8 0.8 0.8 0.8 0.8 0.8 0.8 0.8 0.8 0.8 0.8 0.8 0.8 0.8 0.8 0.\n",
            " 0.  0.  0.  0.  0.  0.  0.  0.  0.  0.  0.  0.  0.  0.  0.  0.  0.  0.\n",
            " 0.  0.  0.  0.  0.  0.  0.  0.  0.  0.  0.  0. ]\n"
          ]
        }
      ],
      "source": [
        "print(y_train)"
      ]
    },
    {
      "cell_type": "code",
      "execution_count": null,
      "id": "79544a83",
      "metadata": {
        "id": "79544a83"
      },
      "outputs": [],
      "source": [
        "X_train = np.reshape(X_train, (X_train.shape[0], X_train.shape[1], 1))"
      ]
    },
    {
      "cell_type": "code",
      "execution_count": null,
      "id": "f1c6ebad",
      "metadata": {
        "colab": {
          "base_uri": "https://localhost:8080/"
        },
        "id": "f1c6ebad",
        "outputId": "c30e95d7-9404-4b8d-dd08-59f6195fc9f2"
      },
      "outputs": [
        {
          "output_type": "execute_result",
          "data": {
            "text/plain": [
              "(120, 63, 1)"
            ]
          },
          "metadata": {},
          "execution_count": 109
        }
      ],
      "source": [
        "X_train.shape"
      ]
    },
    {
      "cell_type": "code",
      "execution_count": null,
      "id": "1d9b32c7",
      "metadata": {
        "id": "1d9b32c7"
      },
      "outputs": [],
      "source": [
        "from keras.models import Sequential\n",
        "from keras.layers import Dense\n",
        "from keras.layers import LSTM,GRU\n",
        "from keras.layers import Dropout\n",
        "from keras.models import Sequential\n",
        "from keras.layers.core import Dense, Dropout, Activation, Flatten\n",
        "from keras.layers.recurrent import LSTM, GRU\n",
        "from keras.callbacks import ModelCheckpoint, ReduceLROnPlateau, CSVLogger\n",
        "from keras.layers.wrappers import Bidirectional\n",
        "from keras import regularizers\n",
        "from keras.layers.advanced_activations import *\n",
        "from keras.initializers import *"
      ]
    },
    {
      "cell_type": "code",
      "source": [
        "x_train.shape[1]"
      ],
      "metadata": {
        "id": "W0xBdEkqv-ga",
        "colab": {
          "base_uri": "https://localhost:8080/",
          "height": 171
        },
        "outputId": "b8b23a2e-e38a-4a6d-cd92-6d7aa5451c59"
      },
      "id": "W0xBdEkqv-ga",
      "execution_count": null,
      "outputs": [
        {
          "output_type": "error",
          "ename": "NameError",
          "evalue": "ignored",
          "traceback": [
            "\u001b[0;31m---------------------------------------------------------------------------\u001b[0m",
            "\u001b[0;31mNameError\u001b[0m                                 Traceback (most recent call last)",
            "\u001b[0;32m<ipython-input-10-854f2f00cb59>\u001b[0m in \u001b[0;36m<module>\u001b[0;34m\u001b[0m\n\u001b[0;32m----> 1\u001b[0;31m \u001b[0mx_train\u001b[0m\u001b[0;34m.\u001b[0m\u001b[0mshape\u001b[0m\u001b[0;34m[\u001b[0m\u001b[0;36m1\u001b[0m\u001b[0;34m]\u001b[0m\u001b[0;34m\u001b[0m\u001b[0;34m\u001b[0m\u001b[0m\n\u001b[0m",
            "\u001b[0;31mNameError\u001b[0m: name 'x_train' is not defined"
          ]
        }
      ]
    },
    {
      "cell_type": "code",
      "source": [
        "regressor = Sequential()"
      ],
      "metadata": {
        "id": "QFlbHPLQwAlK"
      },
      "id": "QFlbHPLQwAlK",
      "execution_count": null,
      "outputs": []
    },
    {
      "cell_type": "code",
      "source": [
        "regressor.add(Bidirectional(GRU(units = 50, return_sequences=True,input_shape = (X_train.shape[1], 1))))\n",
        "regressor.add(Dropout(0.2))"
      ],
      "metadata": {
        "id": "HJmaXiPDwBk4"
      },
      "id": "HJmaXiPDwBk4",
      "execution_count": null,
      "outputs": []
    },
    {
      "cell_type": "code",
      "source": [
        "regressor.add(Bidirectional(GRU(units = 50)))\n",
        "regressor.add(Dropout(0.2))"
      ],
      "metadata": {
        "id": "i-RYgUqjwDk1"
      },
      "id": "i-RYgUqjwDk1",
      "execution_count": null,
      "outputs": []
    },
    {
      "cell_type": "code",
      "source": [
        "#regressor.add(Dense(units = 1))\n",
        "regressor.add(Dense(32,kernel_initializer=\"uniform\",activation='relu'))        \n",
        "regressor.add(Dense(1,kernel_initializer=\"uniform\",activation='linear'))"
      ],
      "metadata": {
        "id": "v64w-ZZkwD3U"
      },
      "id": "v64w-ZZkwD3U",
      "execution_count": null,
      "outputs": []
    },
    {
      "cell_type": "code",
      "source": [
        "regressor.compile(optimizer = 'adam', loss = 'mean_squared_error')"
      ],
      "metadata": {
        "id": "hAzI_u25wD6K",
        "colab": {
          "base_uri": "https://localhost:8080/",
          "height": 171
        },
        "outputId": "694406a1-44ac-48d6-edb9-6679ecda0cd0"
      },
      "id": "hAzI_u25wD6K",
      "execution_count": null,
      "outputs": [
        {
          "output_type": "error",
          "ename": "NameError",
          "evalue": "ignored",
          "traceback": [
            "\u001b[0;31m---------------------------------------------------------------------------\u001b[0m",
            "\u001b[0;31mNameError\u001b[0m                                 Traceback (most recent call last)",
            "\u001b[0;32m<ipython-input-7-421e76472cf2>\u001b[0m in \u001b[0;36m<module>\u001b[0;34m\u001b[0m\n\u001b[0;32m----> 1\u001b[0;31m \u001b[0mregressor\u001b[0m\u001b[0;34m.\u001b[0m\u001b[0mcompile\u001b[0m\u001b[0;34m(\u001b[0m\u001b[0moptimizer\u001b[0m \u001b[0;34m=\u001b[0m \u001b[0;34m'adam'\u001b[0m\u001b[0;34m,\u001b[0m \u001b[0mloss\u001b[0m \u001b[0;34m=\u001b[0m \u001b[0;34m'mean_squared_error'\u001b[0m\u001b[0;34m)\u001b[0m\u001b[0;34m\u001b[0m\u001b[0;34m\u001b[0m\u001b[0m\n\u001b[0m",
            "\u001b[0;31mNameError\u001b[0m: name 'regressor' is not defined"
          ]
        }
      ]
    },
    {
      "cell_type": "code",
      "source": [
        "regressor.fit(X_train, y_train, epochs = 40, batch_size = 256)"
      ],
      "metadata": {
        "id": "LuFORoA9wD9h",
        "colab": {
          "base_uri": "https://localhost:8080/"
        },
        "outputId": "f34aa5cb-52d7-49f2-956a-31abdd959988"
      },
      "id": "LuFORoA9wD9h",
      "execution_count": null,
      "outputs": [
        {
          "output_type": "stream",
          "name": "stdout",
          "text": [
            "Epoch 1/40\n",
            "1/1 [==============================] - 14s 14s/step - loss: 0.4760\n",
            "Epoch 2/40\n",
            "1/1 [==============================] - 0s 348ms/step - loss: 0.4695\n",
            "Epoch 3/40\n",
            "1/1 [==============================] - 0s 353ms/step - loss: 0.4641\n",
            "Epoch 4/40\n",
            "1/1 [==============================] - 0s 332ms/step - loss: 0.4588\n",
            "Epoch 5/40\n",
            "1/1 [==============================] - 0s 372ms/step - loss: 0.4525\n",
            "Epoch 6/40\n",
            "1/1 [==============================] - 0s 345ms/step - loss: 0.4459\n",
            "Epoch 7/40\n",
            "1/1 [==============================] - 0s 335ms/step - loss: 0.4373\n",
            "Epoch 8/40\n",
            "1/1 [==============================] - 0s 337ms/step - loss: 0.4268\n",
            "Epoch 9/40\n",
            "1/1 [==============================] - 0s 366ms/step - loss: 0.4146\n",
            "Epoch 10/40\n",
            "1/1 [==============================] - 0s 336ms/step - loss: 0.4011\n",
            "Epoch 11/40\n",
            "1/1 [==============================] - 0s 332ms/step - loss: 0.3844\n",
            "Epoch 12/40\n",
            "1/1 [==============================] - 0s 358ms/step - loss: 0.3638\n",
            "Epoch 13/40\n",
            "1/1 [==============================] - 0s 353ms/step - loss: 0.3406\n",
            "Epoch 14/40\n",
            "1/1 [==============================] - 0s 331ms/step - loss: 0.3126\n",
            "Epoch 15/40\n",
            "1/1 [==============================] - 0s 345ms/step - loss: 0.2820\n",
            "Epoch 16/40\n",
            "1/1 [==============================] - 0s 339ms/step - loss: 0.2471\n",
            "Epoch 17/40\n",
            "1/1 [==============================] - 0s 329ms/step - loss: 0.2095\n",
            "Epoch 18/40\n",
            "1/1 [==============================] - 0s 343ms/step - loss: 0.1706\n",
            "Epoch 19/40\n",
            "1/1 [==============================] - 0s 337ms/step - loss: 0.1323\n",
            "Epoch 20/40\n",
            "1/1 [==============================] - 0s 345ms/step - loss: 0.0977\n",
            "Epoch 21/40\n",
            "1/1 [==============================] - 0s 345ms/step - loss: 0.0817\n",
            "Epoch 22/40\n",
            "1/1 [==============================] - 0s 349ms/step - loss: 0.0755\n",
            "Epoch 23/40\n",
            "1/1 [==============================] - 0s 343ms/step - loss: 0.0979\n",
            "Epoch 24/40\n",
            "1/1 [==============================] - 0s 335ms/step - loss: 0.1183\n",
            "Epoch 25/40\n",
            "1/1 [==============================] - 0s 343ms/step - loss: 0.1244\n",
            "Epoch 26/40\n",
            "1/1 [==============================] - 0s 347ms/step - loss: 0.1268\n",
            "Epoch 27/40\n",
            "1/1 [==============================] - 0s 329ms/step - loss: 0.1158\n",
            "Epoch 28/40\n",
            "1/1 [==============================] - 0s 338ms/step - loss: 0.0944\n",
            "Epoch 29/40\n",
            "1/1 [==============================] - 0s 337ms/step - loss: 0.0840\n",
            "Epoch 30/40\n",
            "1/1 [==============================] - 0s 348ms/step - loss: 0.0731\n",
            "Epoch 31/40\n",
            "1/1 [==============================] - 0s 337ms/step - loss: 0.0694\n",
            "Epoch 32/40\n",
            "1/1 [==============================] - 0s 347ms/step - loss: 0.0700\n",
            "Epoch 33/40\n",
            "1/1 [==============================] - 0s 336ms/step - loss: 0.0714\n",
            "Epoch 34/40\n",
            "1/1 [==============================] - 0s 333ms/step - loss: 0.0752\n",
            "Epoch 35/40\n",
            "1/1 [==============================] - 0s 365ms/step - loss: 0.0757\n",
            "Epoch 36/40\n",
            "1/1 [==============================] - 0s 330ms/step - loss: 0.0778\n",
            "Epoch 37/40\n",
            "1/1 [==============================] - 0s 331ms/step - loss: 0.0762\n",
            "Epoch 38/40\n",
            "1/1 [==============================] - 0s 342ms/step - loss: 0.0739\n",
            "Epoch 39/40\n",
            "1/1 [==============================] - 0s 334ms/step - loss: 0.0692\n",
            "Epoch 40/40\n",
            "1/1 [==============================] - 0s 335ms/step - loss: 0.0637\n"
          ]
        },
        {
          "output_type": "execute_result",
          "data": {
            "text/plain": [
              "<keras.callbacks.History at 0x7f33b1ca6790>"
            ]
          },
          "metadata": {},
          "execution_count": 118
        }
      ]
    },
    {
      "cell_type": "code",
      "source": [
        "import pandas as pd\n",
        "dataset_total = pd.concat((train_data('Open'), test_data('Open'), axis=0)))"
      ],
      "metadata": {
        "id": "pJJcO8CIwJKw",
        "colab": {
          "base_uri": "https://localhost:8080/",
          "height": 134
        },
        "outputId": "5457529f-970d-4cac-d74e-5ae6edbde123"
      },
      "id": "pJJcO8CIwJKw",
      "execution_count": null,
      "outputs": [
        {
          "output_type": "error",
          "ename": "SyntaxError",
          "evalue": "ignored",
          "traceback": [
            "\u001b[0;36m  File \u001b[0;32m\"<ipython-input-5-473ce00404b3>\"\u001b[0;36m, line \u001b[0;32m2\u001b[0m\n\u001b[0;31m    dataset_total = pd.concat((train_data('Open'), test_data('Open'), axis=0)))\u001b[0m\n\u001b[0m                                                                          ^\u001b[0m\n\u001b[0;31mSyntaxError\u001b[0m\u001b[0;31m:\u001b[0m invalid syntax\n"
          ]
        }
      ]
    },
    {
      "cell_type": "code",
      "source": [
        "inputs = dataset_total[len(dataset_total) - len(test_data) - 63:].values\n",
        "inputs = inputs.reshape(-1,1)"
      ],
      "metadata": {
        "id": "Rw9xeLxPwJOL"
      },
      "id": "Rw9xeLxPwJOL",
      "execution_count": null,
      "outputs": []
    },
    {
      "cell_type": "code",
      "source": [
        "inputs"
      ],
      "metadata": {
        "id": "9CraibelwLTS"
      },
      "id": "9CraibelwLTS",
      "execution_count": null,
      "outputs": []
    },
    {
      "cell_type": "code",
      "source": [
        "len(inputs)"
      ],
      "metadata": {
        "id": "6RN4-PN3wTdK"
      },
      "id": "6RN4-PN3wTdK",
      "execution_count": null,
      "outputs": []
    },
    {
      "cell_type": "code",
      "source": [
        "\n",
        "inputs = sc.transform(inputs)\n",
        "X_test = []\n",
        "for i in range(63, 130):\n",
        "    X_test.append(inputs[i-63:i, 0])\n",
        "X_test = np.array(X_test)\n",
        "X_test = np.reshape(X_test, (X_test.shape[0], X_test.shape[1], 1))\n",
        "predicted_stock_price = regressor.predict(X_test)\n",
        "predicted_stock_price = sc.inverse_transform(predicted_stock_price)"
      ],
      "metadata": {
        "id": "Db2CYAPvwU_n"
      },
      "id": "Db2CYAPvwU_n",
      "execution_count": null,
      "outputs": []
    },
    {
      "cell_type": "code",
      "source": [
        "XTest=np.reshape(X_test[0],(1,63,1))\n",
        "X_test.shape"
      ],
      "metadata": {
        "id": "BPXr0c9BwWE_"
      },
      "id": "BPXr0c9BwWE_",
      "execution_count": null,
      "outputs": []
    },
    {
      "cell_type": "code",
      "source": [
        "predicted=[]\n",
        "for i in range(67):\n",
        "\n",
        "  p=sc.inverse_transform(regressor.predict(XTest))\n",
        "  predicted.append(sc.inverse_transform(regressor.predict(XTest)))\n",
        "  XTest=np.reshape(XTest,(63))\n",
        "  XTest=np.delete(XTest,0)\n",
        "  XTest=np.append(XTest,sc.transform(p))\n",
        "  XTest=np.reshape(XTest,(1,63,1))"
      ],
      "metadata": {
        "id": "fQyiI5sQwWHe"
      },
      "id": "fQyiI5sQwWHe",
      "execution_count": null,
      "outputs": []
    },
    {
      "cell_type": "code",
      "source": [
        "predicted_stock_price_60days=np.reshape(predicted,(67,1))"
      ],
      "metadata": {
        "id": "tlOnxNzKwWJw"
      },
      "id": "tlOnxNzKwWJw",
      "execution_count": null,
      "outputs": []
    },
    {
      "cell_type": "code",
      "source": [
        "predicted_stock_price"
      ],
      "metadata": {
        "id": "TWeaGLfPwYW9",
        "colab": {
          "base_uri": "https://localhost:8080/",
          "height": 171
        },
        "outputId": "c7ccd719-1896-46f3-bd60-6026cebd667a"
      },
      "id": "TWeaGLfPwYW9",
      "execution_count": null,
      "outputs": [
        {
          "output_type": "error",
          "ename": "NameError",
          "evalue": "ignored",
          "traceback": [
            "\u001b[0;31m---------------------------------------------------------------------------\u001b[0m",
            "\u001b[0;31mNameError\u001b[0m                                 Traceback (most recent call last)",
            "\u001b[0;32m<ipython-input-6-d4a529264797>\u001b[0m in \u001b[0;36m<module>\u001b[0;34m\u001b[0m\n\u001b[0;32m----> 1\u001b[0;31m \u001b[0mpredicted_stock_price\u001b[0m\u001b[0;34m\u001b[0m\u001b[0;34m\u001b[0m\u001b[0m\n\u001b[0m",
            "\u001b[0;31mNameError\u001b[0m: name 'predicted_stock_price' is not defined"
          ]
        }
      ]
    },
    {
      "cell_type": "code",
      "source": [
        "import matplotlib.pyplot as plt\n",
        "plt.plot(real_stock_price, color = 'red', label = 'Real Google Stock Price')\n",
        "plt.plot(predicted_stock_price, color = 'blue', label = 'Predicted Google Stock Price - One step time series forecast')\n",
        "plt.plot(predicted_stock_price_60days, color = 'orange', label = 'Predicted Google Stock Price - Multistep time series forecast')\n",
        "plt.ylim(700,1400)\n",
        "plt.xticks(np.arange(67),test_data['timestamp'], rotation='vertical')\n",
        "plt.title('Google Stock Price Prediction')\n",
        "plt.xlabel('Time')\n",
        "plt.ylabel('Google Stock Price')\n",
        "plt.legend()\n",
        "plt.show()"
      ],
      "metadata": {
        "id": "LmYjAdsNwYZZ"
      },
      "id": "LmYjAdsNwYZZ",
      "execution_count": null,
      "outputs": []
    },
    {
      "cell_type": "code",
      "source": [
        "real_stock_price.shape"
      ],
      "metadata": {
        "id": "kY3MDBlrwawS"
      },
      "id": "kY3MDBlrwawS",
      "execution_count": null,
      "outputs": []
    },
    {
      "cell_type": "code",
      "source": [
        "from sklearn import metrics\n",
        "np.sqrt(metrics.mean_squared_error(real_stock_price,predicted_stock_price[0:67]))"
      ],
      "metadata": {
        "id": "DxWTo3IAwb6p"
      },
      "id": "DxWTo3IAwb6p",
      "execution_count": null,
      "outputs": []
    },
    {
      "cell_type": "code",
      "source": [
        "def cal_target(df):\n",
        "    list_y =[]\n",
        "    temp = df\n",
        "    for i in range(len(temp)-1):\n",
        "        if temp[i+1] > temp[i]:\n",
        "            y = 1\n",
        "        else:\n",
        "            y = -1\n",
        "            \n",
        "        list_y.append(y)\n",
        "    ydf = pd.DataFrame(list_y)\n",
        "    return ydf"
      ],
      "metadata": {
        "id": "I2lfmQPywb9r"
      },
      "id": "I2lfmQPywb9r",
      "execution_count": null,
      "outputs": []
    },
    {
      "cell_type": "code",
      "source": [
        "real_stock_price_trend = cal_target(real_stock_price)\n",
        "predicted_stock_price_trend =cal_target(predicted_stock_price[0:67])"
      ],
      "metadata": {
        "id": "07i4gZVVweKq"
      },
      "id": "07i4gZVVweKq",
      "execution_count": null,
      "outputs": []
    },
    {
      "cell_type": "code",
      "source": [
        "real_df = pd.DataFrame(real_stock_price_trend)\n",
        "pred_df = pd.DataFrame(predicted_stock_price_trend)\n",
        "acc_df = pd.concat((real_df[0],pred_df[0]), axis=1)\n",
        "acc_df.head(100)"
      ],
      "metadata": {
        "id": "rjLdqtyBwfbL"
      },
      "id": "rjLdqtyBwfbL",
      "execution_count": null,
      "outputs": []
    },
    {
      "cell_type": "code",
      "source": [
        "from sklearn.metrics import accuracy_score\n",
        "score = accuracy_score(real_stock_price_trend, predicted_stock_price_trend)\n",
        "print(score)"
      ],
      "metadata": {
        "id": "OXy2hmBvwgPa"
      },
      "id": "OXy2hmBvwgPa",
      "execution_count": null,
      "outputs": []
    },
    {
      "cell_type": "code",
      "source": [
        "from sklearn.metrics import classification_report\n",
        "print(classification_report(real_stock_price_trend, predicted_stock_price_trend))"
      ],
      "metadata": {
        "id": "2XuVkJylwhqk"
      },
      "id": "2XuVkJylwhqk",
      "execution_count": null,
      "outputs": []
    },
    {
      "cell_type": "code",
      "source": [
        "from sklearn.metrics import f1_score\n",
        "f1_score(real_stock_price_trend, predicted_stock_price_trend)"
      ],
      "metadata": {
        "id": "Uf8Ehnzxwivq"
      },
      "id": "Uf8Ehnzxwivq",
      "execution_count": null,
      "outputs": []
    },
    {
      "cell_type": "code",
      "source": [
        "for i in range(1,10):\n",
        "  print (f'For Epoch {10*i} \\n')\n",
        "  regressor = Sequential()\n",
        "  regressor.add(Bidirectional(GRU(units = 50, return_sequences=True,input_shape = (X_train.shape[1], 1))))\n",
        "  regressor.add(Dropout(0.2))\n",
        "  regressor.add(Bidirectional(GRU(units = 50)))\n",
        "  regressor.add(Dropout(0.2))\n",
        "  regressor.add(Dense(32,kernel_initializer=\"uniform\",activation='relu'))        \n",
        "  regressor.add(Dense(1,kernel_initializer=\"uniform\",activation='linear'))\n",
        "  regressor.compile(optimizer = 'adam', loss = 'mean_squared_error')\n",
        "  regressor.fit(X_train, y_train, epochs = 10*i, batch_size = 256,verbose=0)\n",
        "  predicted_stock_price = regressor.predict(X_test)\n",
        "  predicted_stock_price = sc.inverse_transform(predicted_stock_price)\n",
        "  print(f' RMSE value for {i*10} ephocs is {np.sqrt(metrics.mean_squared_error(real_stock_price,predicted_stock_price[0:67]))} \\n')"
      ],
      "metadata": {
        "id": "ilG0fumZwkGU"
      },
      "id": "ilG0fumZwkGU",
      "execution_count": null,
      "outputs": []
    },
    {
      "cell_type": "code",
      "source": [
        "batch = [100,200,256,300,400]\n",
        "for i in batch:\n",
        "  print (f'For Batch size of  {i} \\n')\n",
        "  regressor = Sequential()\n",
        "  regressor.add(Bidirectional(GRU(units = 50, return_sequences=True,input_shape = (X_train.shape[1], 1))))\n",
        "  regressor.add(Dropout(0.2))\n",
        "  regressor.add(Bidirectional(GRU(units = 50)))\n",
        "  regressor.add(Dropout(0.2))\n",
        "  regressor.add(Dense(32,kernel_initializer=\"uniform\",activation='relu'))        \n",
        "  regressor.add(Dense(1,kernel_initializer=\"uniform\",activation='linear'))\n",
        "  regressor.compile(optimizer = 'adam', loss = 'mean_squared_error')\n",
        "  regressor.fit(X_train, y_train, epochs = 40, batch_size = i,verbose=0)\n",
        "  predicted_stock_price = regressor.predict(X_test)\n",
        "  predicted_stock_price = sc.inverse_transform(predicted_stock_price)\n",
        "  print(f' RMSE value for batch size of  {i} is {np.sqrt(metrics.mean_squared_error(real_stock_price,predicted_stock_price[0:67]))} \\n')"
      ],
      "metadata": {
        "id": "RJUKSkKxwkLj"
      },
      "id": "RJUKSkKxwkLj",
      "execution_count": null,
      "outputs": []
    },
    {
      "cell_type": "code",
      "source": [
        "activations = ['relu','linear','tanh','softmax','elu','selu']\n",
        "\n",
        "for acti in activations:\n",
        "  print(f'Activation function = {acti} \\n')\n",
        "  regressor = Sequential()\n",
        "  regressor.add(Bidirectional(GRU(units = 50, return_sequences=True,input_shape = (X_train.shape[1], 1))))\n",
        "  regressor.add(Dropout(0.2))\n",
        "  regressor.add(Bidirectional(GRU(units = 50)))\n",
        "  regressor.add(Dropout(0.2))\n",
        "  regressor.add(Dense(32,kernel_initializer=\"uniform\",activation=acti))        \n",
        "  regressor.add(Dense(1,kernel_initializer=\"uniform\",activation=acti))\n",
        "  regressor.compile(optimizer = 'adam', loss = 'mean_squared_error')\n",
        "  \n",
        "  regressor.fit(X_train, y_train, epochs = 40, batch_size = 256,verbose=0)\n",
        "  predicted_stock_price = regressor.predict(X_test)\n",
        "  predicted_stock_price = sc.inverse_transform(predicted_stock_price)\n",
        "  print(f' RMSE value for {acti} activation function is {np.sqrt(metrics.mean_squared_error(real_stock_price,predicted_stock_price[0:67]))} \\n')"
      ],
      "metadata": {
        "id": "WoGLY1bbwkUq"
      },
      "id": "WoGLY1bbwkUq",
      "execution_count": null,
      "outputs": []
    },
    {
      "cell_type": "code",
      "source": [
        "for i in range(1,6):\n",
        "  print (f'For  {10*i} Hidden Layers \\n')\n",
        "  regressor = Sequential()\n",
        "  regressor.add(Bidirectional(GRU(units = 10*i, return_sequences=True,input_shape = (X_train.shape[1], 1))))\n",
        "  regressor.add(Dropout(0.2))\n",
        "  regressor.add(Bidirectional(GRU(units = 10*i)))\n",
        "  regressor.add(Dropout(0.2))\n",
        "  regressor.add(Dense(32,kernel_initializer=\"uniform\",activation='relu'))        \n",
        "  regressor.add(Dense(1,kernel_initializer=\"uniform\",activation='linear'))\n",
        "  regressor.compile(optimizer = 'adam', loss = 'mean_squared_error')\n",
        "  regressor.fit(X_train, y_train, epochs = 40, batch_size = 256,verbose=0)\n",
        "  predicted_stock_price = regressor.predict(X_test)\n",
        "  predicted_stock_price = sc.inverse_transform(predicted_stock_price)\n",
        "  print(f' RMSE value for {i*10} hidden layers is {np.sqrt(metrics.mean_squared_error(real_stock_price,predicted_stock_price[0:67]))} \\n')"
      ],
      "metadata": {
        "id": "1j-KMLLHwqxb"
      },
      "id": "1j-KMLLHwqxb",
      "execution_count": null,
      "outputs": []
    },
    {
      "cell_type": "code",
      "source": [
        "regressor = Sequential()\n",
        "regressor.add(Bidirectional(GRU(units = 50, return_sequences=True,input_shape = (X_train.shape[1], 1))))\n",
        "regressor.add(Dropout(0.2))\n",
        "regressor.add(Bidirectional(GRU(units = 50)))\n",
        "regressor.add(Dropout(0.2))\n",
        "regressor.add(Dense(32,kernel_initializer=\"uniform\",activation='relu'))        \n",
        "regressor.add(Dense(1,kernel_initializer=\"uniform\",activation='linear'))\n",
        "regressor.compile(optimizer = 'adam', loss = 'mean_squared_error')\n",
        "regressor.fit(X_train, y_train, epochs = 90, batch_size = 256,verbose=0)\n",
        "predicted_stock_price = regressor.predict(X_test)\n",
        "predicted_stock_price = sc.inverse_transform(predicted_stock_price)\n",
        "print(f' RMSE value for fine tuned model is is {np.sqrt(metrics.mean_squared_error(real_stock_price,predicted_stock_price[0:67]))} \\n')"
      ],
      "metadata": {
        "id": "5nHOxsPswq0z"
      },
      "id": "5nHOxsPswq0z",
      "execution_count": null,
      "outputs": []
    },
    {
      "cell_type": "code",
      "source": [
        "import matplotlib.pyplot as plt\n",
        "plt.plot(real_stock_price, color = 'red', label = 'Real MTPOF Stock Price')\n",
        "plt.plot(predicted_stock_price, color = 'blue', label = 'Predicted MTPOF Stock Price - One step time series forecast')\n",
        "plt.plot(predicted_stock_price_60days, color = 'orange', label = 'Predicted MTPOF Stock Price - Multistep time series forecast')\n",
        "plt.ylim(700,1400)\n",
        "plt.xticks(np.arange(67),test_data['timestamp'], rotation='vertical')\n",
        "plt.title('MTPOF Stock Price Prediction')\n",
        "plt.xlabel('Time')\n",
        "plt.ylabel('MTPOF Stock Price')\n",
        "plt.legend()\n",
        "plt.show()"
      ],
      "metadata": {
        "id": "YHBLCXdqwq35"
      },
      "id": "YHBLCXdqwq35",
      "execution_count": null,
      "outputs": []
    },
    {
      "cell_type": "code",
      "source": [
        "import matplotlib.pyplot as plt\n",
        "plt.plot(data['open'])"
      ],
      "metadata": {
        "id": "PCMA87L_w58j"
      },
      "id": "PCMA87L_w58j",
      "execution_count": null,
      "outputs": []
    },
    {
      "cell_type": "code",
      "source": [
        "plt.figure(figsize=(16,6))\n",
        "plt.plot(data['open'].rolling(window=12,center=False).mean(),label='Rolling Mean');\n",
        "plt.plot(data['open'].rolling(window=12,center=False).std(),label='Rolling sd');\n",
        "plt.legend();"
      ],
      "metadata": {
        "id": "OTn9FhRUw7dY"
      },
      "id": "OTn9FhRUw7dY",
      "execution_count": null,
      "outputs": []
    },
    {
      "cell_type": "code",
      "source": [
        "import statsmodels.api as sm\n",
        "# multiplicative\n",
        "res = sm.tsa.seasonal_decompose(data['open'].values,freq=12,model=\"multiplicative\")\n",
        "#plt.figure(figsize=(16,12))\n",
        "fig = res.plot()"
      ],
      "metadata": {
        "id": "cjQy1GWTw8oW"
      },
      "id": "cjQy1GWTw8oW",
      "execution_count": null,
      "outputs": []
    },
    {
      "cell_type": "code",
      "source": [
        "data=pd.read_csv(\"daily_GOOGL.csv\")\n",
        "data=data[data.iloc[:,0]>='2015-01-01']\n",
        "train_data=data[data.iloc[:,0]<'2018-08-01']\n",
        "train_data=train_data.iloc[::-1]\n",
        "test_data=data[data.iloc[:,0]>='2018-08-01']\n",
        "test_data=test_data.iloc[::-1]\n",
        "test_data.tail()\n",
        "training_set = train_data.iloc[:, 1:2].values\n",
        "import numpy as np"
      ],
      "metadata": {
        "id": "OYAokgTuw96W"
      },
      "id": "OYAokgTuw96W",
      "execution_count": null,
      "outputs": []
    },
    {
      "cell_type": "code",
      "source": [
        "train_data"
      ],
      "metadata": {
        "id": "VG966_w9w_E8"
      },
      "id": "VG966_w9w_E8",
      "execution_count": null,
      "outputs": []
    },
    {
      "cell_type": "code",
      "source": [
        "training_set"
      ],
      "metadata": {
        "id": "jKI8xDbyxBJO"
      },
      "id": "jKI8xDbyxBJO",
      "execution_count": null,
      "outputs": []
    },
    {
      "cell_type": "code",
      "source": [
        "import statsmodels.api as sm\n",
        "# multiplicative\n",
        "res = sm.tsa.seasonal_decompose(training_set[0:252],freq=21,model=\"multiplicative\")\n",
        "#plt.figure(figsize=(16,12))\n",
        "fig = res.plot()"
      ],
      "metadata": {
        "id": "0TiQs-_txCjW"
      },
      "id": "0TiQs-_txCjW",
      "execution_count": null,
      "outputs": []
    },
    {
      "cell_type": "code",
      "source": [
        "import statsmodels.api as sm\n",
        "# multiplicative\n",
        "res = sm.tsa.seasonal_decompose(training_set[252:505],freq=12,model=\"multiplicative\")\n",
        "#plt.figure(figsize=(16,12))\n",
        "fig = res.plot()"
      ],
      "metadata": {
        "id": "g5KiHy2IxFLI"
      },
      "id": "g5KiHy2IxFLI",
      "execution_count": null,
      "outputs": []
    },
    {
      "cell_type": "code",
      "source": [
        "import statsmodels.api as sm\n",
        "# multiplicative\n",
        "res = sm.tsa.seasonal_decompose(training_set[505:755],freq=12,model=\"multiplicative\")\n",
        "#plt.figure(figsize=(16,12))\n",
        "fig = res.plot()"
      ],
      "metadata": {
        "id": "xacgBujIxKLm"
      },
      "id": "xacgBujIxKLm",
      "execution_count": null,
      "outputs": []
    },
    {
      "cell_type": "code",
      "source": [
        "import statsmodels.api as sm\n",
        "# multiplicative\n",
        "res = sm.tsa.seasonal_decompose(training_set[755:],freq=12)\n",
        "#plt.figure(figsize=(16,12))\n",
        "fig = res.plot()"
      ],
      "metadata": {
        "id": "CfhZQXSrxLNr"
      },
      "id": "CfhZQXSrxLNr",
      "execution_count": null,
      "outputs": []
    },
    {
      "cell_type": "code",
      "source": [
        "import statsmodels.api as sm\n",
        "# multiplicative\n",
        "res = sm.tsa.seasonal_decompose(training_set,freq=120)\n",
        "#plt.figure(figsize=(16,12))\n",
        "fig = res.plot()"
      ],
      "metadata": {
        "id": "cZjoOtwTxMla"
      },
      "id": "cZjoOtwTxMla",
      "execution_count": null,
      "outputs": []
    },
    {
      "cell_type": "code",
      "source": [
        "train_data.iloc[0:252,:]"
      ],
      "metadata": {
        "id": "egYr73OHxNkr"
      },
      "id": "egYr73OHxNkr",
      "execution_count": null,
      "outputs": []
    }
  ],
  "metadata": {
    "kernelspec": {
      "display_name": "Python 3 (ipykernel)",
      "language": "python",
      "name": "python3"
    },
    "language_info": {
      "codemirror_mode": {
        "name": "ipython",
        "version": 3
      },
      "file_extension": ".py",
      "mimetype": "text/x-python",
      "name": "python",
      "nbconvert_exporter": "python",
      "pygments_lexer": "ipython3",
      "version": "3.9.12"
    },
    "colab": {
      "provenance": [],
      "collapsed_sections": []
    }
  },
  "nbformat": 4,
  "nbformat_minor": 5
}