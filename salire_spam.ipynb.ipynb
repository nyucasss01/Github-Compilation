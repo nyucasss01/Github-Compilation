{
  "nbformat": 4,
  "nbformat_minor": 0,
  "metadata": {
    "colab": {
      "provenance": []
    },
    "kernelspec": {
      "name": "python3",
      "display_name": "Python 3"
    },
    "language_info": {
      "name": "python"
    }
  },
  "cells": [
    {
      "cell_type": "markdown",
      "source": [
        "**Importing the Libraries**\n",
        "\n"
      ],
      "metadata": {
        "id": "Y5N8irfPOj6E"
      }
    },
    {
      "cell_type": "code",
      "source": [
        "import numpy as np\n",
        "import pandas as pd\n",
        "import numpy as np  \n",
        "import pandas as pd \n",
        "import matplotlib.pyplot as plt #for plots\n",
        "import seaborn as sns # for plots\n",
        "import tensorflow as tf # our main library, deep learning modelling\n",
        "from tensorflow import keras # keras library\n",
        "from tensorflow.keras import layers # for creating layers"
      ],
      "metadata": {
        "id": "qK3QFNSjOlJ8"
      },
      "execution_count": 1,
      "outputs": []
    },
    {
      "cell_type": "markdown",
      "source": [
        "**Data Collection**"
      ],
      "metadata": {
        "id": "ITf0qhzdOjbM"
      }
    },
    {
      "cell_type": "code",
      "source": [
        "data = pd.read_csv(\"spam.csv\", encoding=\"latin-1\") # reading data\n",
        "data = data.drop(['Unnamed: 2', 'Unnamed: 3', 'Unnamed: 4'], axis=1)\n",
        "data = data.rename(columns={'v1':'label', 'v2':'Text'})\n",
        "data['label_in_num'] = data['label'].map({'ham':0,'spam':1})\n",
        "data.head() #shows the preview of the dataset"
      ],
      "metadata": {
        "colab": {
          "base_uri": "https://localhost:8080/",
          "height": 206
        },
        "id": "R5PnVdGjPKx8",
        "outputId": "25c58795-c74e-4aa2-ffd4-35facfac3c11"
      },
      "execution_count": 2,
      "outputs": [
        {
          "output_type": "execute_result",
          "data": {
            "text/plain": [
              "  label                                               Text  label_in_num\n",
              "0   ham  Go until jurong point, crazy.. Available only ...             0\n",
              "1   ham                      Ok lar... Joking wif u oni...             0\n",
              "2  spam  Free entry in 2 a wkly comp to win FA Cup fina...             1\n",
              "3   ham  U dun say so early hor... U c already then say...             0\n",
              "4   ham  Nah I don't think he goes to usf, he lives aro...             0"
            ],
            "text/html": [
              "\n",
              "  <div id=\"df-b634f3e7-d700-45c9-b8d2-88d10d743073\">\n",
              "    <div class=\"colab-df-container\">\n",
              "      <div>\n",
              "<style scoped>\n",
              "    .dataframe tbody tr th:only-of-type {\n",
              "        vertical-align: middle;\n",
              "    }\n",
              "\n",
              "    .dataframe tbody tr th {\n",
              "        vertical-align: top;\n",
              "    }\n",
              "\n",
              "    .dataframe thead th {\n",
              "        text-align: right;\n",
              "    }\n",
              "</style>\n",
              "<table border=\"1\" class=\"dataframe\">\n",
              "  <thead>\n",
              "    <tr style=\"text-align: right;\">\n",
              "      <th></th>\n",
              "      <th>label</th>\n",
              "      <th>Text</th>\n",
              "      <th>label_in_num</th>\n",
              "    </tr>\n",
              "  </thead>\n",
              "  <tbody>\n",
              "    <tr>\n",
              "      <th>0</th>\n",
              "      <td>ham</td>\n",
              "      <td>Go until jurong point, crazy.. Available only ...</td>\n",
              "      <td>0</td>\n",
              "    </tr>\n",
              "    <tr>\n",
              "      <th>1</th>\n",
              "      <td>ham</td>\n",
              "      <td>Ok lar... Joking wif u oni...</td>\n",
              "      <td>0</td>\n",
              "    </tr>\n",
              "    <tr>\n",
              "      <th>2</th>\n",
              "      <td>spam</td>\n",
              "      <td>Free entry in 2 a wkly comp to win FA Cup fina...</td>\n",
              "      <td>1</td>\n",
              "    </tr>\n",
              "    <tr>\n",
              "      <th>3</th>\n",
              "      <td>ham</td>\n",
              "      <td>U dun say so early hor... U c already then say...</td>\n",
              "      <td>0</td>\n",
              "    </tr>\n",
              "    <tr>\n",
              "      <th>4</th>\n",
              "      <td>ham</td>\n",
              "      <td>Nah I don't think he goes to usf, he lives aro...</td>\n",
              "      <td>0</td>\n",
              "    </tr>\n",
              "  </tbody>\n",
              "</table>\n",
              "</div>\n",
              "      <button class=\"colab-df-convert\" onclick=\"convertToInteractive('df-b634f3e7-d700-45c9-b8d2-88d10d743073')\"\n",
              "              title=\"Convert this dataframe to an interactive table.\"\n",
              "              style=\"display:none;\">\n",
              "        \n",
              "  <svg xmlns=\"http://www.w3.org/2000/svg\" height=\"24px\"viewBox=\"0 0 24 24\"\n",
              "       width=\"24px\">\n",
              "    <path d=\"M0 0h24v24H0V0z\" fill=\"none\"/>\n",
              "    <path d=\"M18.56 5.44l.94 2.06.94-2.06 2.06-.94-2.06-.94-.94-2.06-.94 2.06-2.06.94zm-11 1L8.5 8.5l.94-2.06 2.06-.94-2.06-.94L8.5 2.5l-.94 2.06-2.06.94zm10 10l.94 2.06.94-2.06 2.06-.94-2.06-.94-.94-2.06-.94 2.06-2.06.94z\"/><path d=\"M17.41 7.96l-1.37-1.37c-.4-.4-.92-.59-1.43-.59-.52 0-1.04.2-1.43.59L10.3 9.45l-7.72 7.72c-.78.78-.78 2.05 0 2.83L4 21.41c.39.39.9.59 1.41.59.51 0 1.02-.2 1.41-.59l7.78-7.78 2.81-2.81c.8-.78.8-2.07 0-2.86zM5.41 20L4 18.59l7.72-7.72 1.47 1.35L5.41 20z\"/>\n",
              "  </svg>\n",
              "      </button>\n",
              "      \n",
              "  <style>\n",
              "    .colab-df-container {\n",
              "      display:flex;\n",
              "      flex-wrap:wrap;\n",
              "      gap: 12px;\n",
              "    }\n",
              "\n",
              "    .colab-df-convert {\n",
              "      background-color: #E8F0FE;\n",
              "      border: none;\n",
              "      border-radius: 50%;\n",
              "      cursor: pointer;\n",
              "      display: none;\n",
              "      fill: #1967D2;\n",
              "      height: 32px;\n",
              "      padding: 0 0 0 0;\n",
              "      width: 32px;\n",
              "    }\n",
              "\n",
              "    .colab-df-convert:hover {\n",
              "      background-color: #E2EBFA;\n",
              "      box-shadow: 0px 1px 2px rgba(60, 64, 67, 0.3), 0px 1px 3px 1px rgba(60, 64, 67, 0.15);\n",
              "      fill: #174EA6;\n",
              "    }\n",
              "\n",
              "    [theme=dark] .colab-df-convert {\n",
              "      background-color: #3B4455;\n",
              "      fill: #D2E3FC;\n",
              "    }\n",
              "\n",
              "    [theme=dark] .colab-df-convert:hover {\n",
              "      background-color: #434B5C;\n",
              "      box-shadow: 0px 1px 3px 1px rgba(0, 0, 0, 0.15);\n",
              "      filter: drop-shadow(0px 1px 2px rgba(0, 0, 0, 0.3));\n",
              "      fill: #FFFFFF;\n",
              "    }\n",
              "  </style>\n",
              "\n",
              "      <script>\n",
              "        const buttonEl =\n",
              "          document.querySelector('#df-b634f3e7-d700-45c9-b8d2-88d10d743073 button.colab-df-convert');\n",
              "        buttonEl.style.display =\n",
              "          google.colab.kernel.accessAllowed ? 'block' : 'none';\n",
              "\n",
              "        async function convertToInteractive(key) {\n",
              "          const element = document.querySelector('#df-b634f3e7-d700-45c9-b8d2-88d10d743073');\n",
              "          const dataTable =\n",
              "            await google.colab.kernel.invokeFunction('convertToInteractive',\n",
              "                                                     [key], {});\n",
              "          if (!dataTable) return;\n",
              "\n",
              "          const docLinkHtml = 'Like what you see? Visit the ' +\n",
              "            '<a target=\"_blank\" href=https://colab.research.google.com/notebooks/data_table.ipynb>data table notebook</a>'\n",
              "            + ' to learn more about interactive tables.';\n",
              "          element.innerHTML = '';\n",
              "          dataTable['output_type'] = 'display_data';\n",
              "          await google.colab.output.renderOutput(dataTable, element);\n",
              "          const docLink = document.createElement('div');\n",
              "          docLink.innerHTML = docLinkHtml;\n",
              "          element.appendChild(docLink);\n",
              "        }\n",
              "      </script>\n",
              "    </div>\n",
              "  </div>\n",
              "  "
            ]
          },
          "metadata": {},
          "execution_count": 2
        }
      ]
    },
    {
      "cell_type": "markdown",
      "source": [
        "**Plotting**\n",
        "\n"
      ],
      "metadata": {
        "id": "bZdiJWF9Q7Ri"
      }
    },
    {
      "cell_type": "code",
      "source": [
        "sns.countplot(x=data['label']) # countplot for label\n",
        "data['label'].value_counts()\n",
        "\n",
        "plt.xlabel('Text Length')"
      ],
      "metadata": {
        "colab": {
          "base_uri": "https://localhost:8080/",
          "height": 297
        },
        "id": "o0iTjk1wRDgz",
        "outputId": "ad24c5b8-f8fa-4697-e045-6ef563aacefe"
      },
      "execution_count": 7,
      "outputs": [
        {
          "output_type": "execute_result",
          "data": {
            "text/plain": [
              "Text(0.5, 0, 'Text Length')"
            ]
          },
          "metadata": {},
          "execution_count": 7
        },
        {
          "output_type": "display_data",
          "data": {
            "text/plain": [
              "<Figure size 432x288 with 1 Axes>"
            ],
            "image/png": "[encoded data removed]"
          },
          "metadata": {
            "needs_background": "light"
          }
        }
      ]
    },
    {
      "cell_type": "markdown",
      "source": [
        "**Presenting the Data's Intensity**"
      ],
      "metadata": {
        "id": "XfpCK4giRqC7"
      }
    },
    {
      "cell_type": "code",
      "source": [
        "sns.countplot(x=[len(data.loc[i]['Text']) for i in range(len(data))])"
      ],
      "metadata": {
        "colab": {
          "base_uri": "https://localhost:8080/",
          "height": 282
        },
        "id": "V82OQieFRv4D",
        "outputId": "1ea3b5b6-cad9-487d-f764-4ffa7ba81835"
      },
      "execution_count": 8,
      "outputs": [
        {
          "output_type": "execute_result",
          "data": {
            "text/plain": [
              "<matplotlib.axes._subplots.AxesSubplot at 0x7f40f3f88210>"
            ]
          },
          "metadata": {},
          "execution_count": 8
        },
        {
          "output_type": "display_data",
          "data": {
            "text/plain": [
              "<Figure size 432x288 with 1 Axes>"
            ],
            "image/png": "[encoded data removed]"
          },
          "metadata": {
            "needs_background": "light"
          }
        }
      ]
    },
    {
      "cell_type": "markdown",
      "source": [
        "**Evaluating the word count per sentence and distribution**"
      ],
      "metadata": {
        "id": "xBzRqqyCR3xz"
      }
    },
    {
      "cell_type": "code",
      "source": [
        "text_words_lengths = [len(data.loc[i]['Text'].split()) for i in range(0, len(data))]\n",
        "total_length = np.sum(text_words_lengths)\n",
        "text_words_mean = int(np.mean(text_words_lengths))\n",
        "print('we have ' + str(total_length) + ' words in our Dataframe')\n",
        "print('the average word count in every scentence is ' + str(text_words_mean))\n",
        "text_words_lengths[:5], total_length, text_words_mean"
      ],
      "metadata": {
        "colab": {
          "base_uri": "https://localhost:8080/"
        },
        "id": "P4C7RS-uR7lK",
        "outputId": "de32300b-300f-4891-cd41-7d3c8c1412f9"
      },
      "execution_count": 9,
      "outputs": [
        {
          "output_type": "stream",
          "name": "stdout",
          "text": [
            "we have 86335 words in our Dataframe\n",
            "the average word count in every scentence is 15\n"
          ]
        },
        {
          "output_type": "execute_result",
          "data": {
            "text/plain": [
              "([20, 6, 28, 11, 13], 86335, 15)"
            ]
          },
          "metadata": {},
          "execution_count": 9
        }
      ]
    },
    {
      "cell_type": "markdown",
      "source": [
        "**Preparing the data for training**\n"
      ],
      "metadata": {
        "id": "j-eJ_lHiSlt3"
      }
    },
    {
      "cell_type": "code",
      "source": [
        "from sklearn.model_selection import train_test_split\n",
        "\n",
        "X, y = np.asanyarray(data['Text']), np.asanyarray(data['label_in_num'])\n",
        "\n",
        "X_train, X_test, y_train, y_test = train_test_split(X, y, test_size=0.2, random_state=24)\n",
        "len(X_train), len(X_test), X_train[:2], y_train[:2]"
      ],
      "metadata": {
        "colab": {
          "base_uri": "https://localhost:8080/"
        },
        "id": "QsTYqoHLStdb",
        "outputId": "afb35af4-7282-464f-f76b-342fb6c238e5"
      },
      "execution_count": 10,
      "outputs": [
        {
          "output_type": "execute_result",
          "data": {
            "text/plain": [
              "(4457, 1115, array(['Kallis wont bat in 2nd innings.',\n",
              "        'Ringtone Club: Get the UK singles chart on your mobile each week and choose any top quality ringtone! This message is free of charge.'],\n",
              "       dtype=object), array([0, 1]))"
            ]
          },
          "metadata": {},
          "execution_count": 10
        }
      ]
    },
    {
      "cell_type": "markdown",
      "source": [
        "**Setting up the data** "
      ],
      "metadata": {
        "id": "_TshcV5uTgnZ"
      }
    },
    {
      "cell_type": "code",
      "source": [
        "MAXTOKENS = total_length\n",
        "OUTPUTLEN = text_words_mean\n",
        "\n",
        "text_vec = layers.TextVectorization(\n",
        "    max_tokens=MAXTOKENS,\n",
        "    standardize='lower_and_strip_punctuation',\n",
        "    output_mode='int',\n",
        "    output_sequence_length=OUTPUTLEN\n",
        ")\n",
        "\n",
        "text_vec.adapt(X_train)\n",
        "\n",
        "embedding_layer = layers.Embedding(\n",
        "    input_dim=MAXTOKENS,\n",
        "    output_dim=128,\n",
        "    embeddings_initializer='uniform',\n",
        "    input_length=OUTPUTLEN\n",
        ")"
      ],
      "metadata": {
        "id": "AvT0nT_wUGD6"
      },
      "execution_count": 12,
      "outputs": []
    },
    {
      "cell_type": "code",
      "source": [
        "# Input layer\n",
        "input_layer = layers.Input(shape=(1,), dtype=tf.string)\n",
        "# Text Vectorizatino layer\n",
        "vec_layer = text_vec(input_layer)\n",
        "# Embedding layer\n",
        "embedding_layer_model = embedding_layer(vec_layer)\n",
        "# Global Average Pooling layer\n",
        "x = layers.GlobalAveragePooling1D()(embedding_layer_model)\n",
        "# Flatten layer for Dense layers\n",
        "x = layers.Flatten()(x)\n",
        "# 32 units dense layer\n",
        "x = layers.Dense(32, activation='relu')(x)\n",
        "# output layer with sigmoid activation function\n",
        "output_layer = layers.Dense(1, activation='sigmoid')(x)\n",
        "# final model\n",
        "model = keras.Model(input_layer, output_layer)"
      ],
      "metadata": {
        "id": "bC146XuvUTt0"
      },
      "execution_count": 13,
      "outputs": []
    },
    {
      "cell_type": "markdown",
      "source": [
        "**Compiling**"
      ],
      "metadata": {
        "id": "95O7ODPZUX8a"
      }
    },
    {
      "cell_type": "code",
      "source": [
        "model.compile(optimizer=keras.optimizers.Adam(),\n",
        "               loss=keras.losses.BinaryCrossentropy(label_smoothing=0.5),\n",
        "               metrics=['accuracy'])"
      ],
      "metadata": {
        "id": "N_EE0SJjUkzq"
      },
      "execution_count": 22,
      "outputs": []
    },
    {
      "cell_type": "markdown",
      "source": [
        "**Training**"
      ],
      "metadata": {
        "id": "AUftajpOU3th"
      }
    },
    {
      "cell_type": "code",
      "source": [
        "history = model.fit(X_train,\n",
        "                    y_train,\n",
        "                    epochs=50,\n",
        "                    batch_size=510,\n",
        "                    validation_data=(X_test, y_test),\n",
        "                    validation_steps=int(0.2 * len(X_test)))\n",
        "                    "
      ],
      "metadata": {
        "colab": {
          "base_uri": "https://localhost:8080/"
        },
        "id": "NUle6bQzU60Z",
        "outputId": "d4582421-79f8-48a8-be53-d96b58715aee"
      },
      "execution_count": 24,
      "outputs": [
        {
          "output_type": "stream",
          "name": "stdout",
          "text": [
            "Epoch 1/50\n",
            "9/9 [==============================] - ETA: 0s - loss: 0.5626 - accuracy: 1.0000"
          ]
        },
        {
          "output_type": "stream",
          "name": "stderr",
          "text": [
            "WARNING:tensorflow:Your input ran out of data; interrupting training. Make sure that your dataset or generator can generate at least `steps_per_epoch * epochs` batches (in this case, 223 batches). You may need to use the repeat() function when building your dataset.\n"
          ]
        },
        {
          "output_type": "stream",
          "name": "stdout",
          "text": [
            "\b\b\b\b\b\b\b\b\b\b\b\b\b\b\b\b\b\b\b\b\b\b\b\b\b\b\b\b\b\b\b\b\b\b\b\b\b\b\b\b\b\b\b\b\b\b\b\b\b\b\b\b\b\b\b\b\b\b\b\b\b\b\b\b\b\b\b\b\b\b\b\b\b\b\b\b\b\b\b\b\r9/9 [==============================] - 1s 128ms/step - loss: 0.5626 - accuracy: 1.0000 - val_loss: 0.5716 - val_accuracy: 0.9812\n",
            "Epoch 2/50\n",
            "9/9 [==============================] - 1s 122ms/step - loss: 0.5626 - accuracy: 1.0000\n",
            "Epoch 3/50\n",
            "9/9 [==============================] - 1s 120ms/step - loss: 0.5626 - accuracy: 1.0000\n",
            "Epoch 4/50\n",
            "9/9 [==============================] - 1s 122ms/step - loss: 0.5626 - accuracy: 1.0000\n",
            "Epoch 5/50\n",
            "9/9 [==============================] - 1s 120ms/step - loss: 0.5626 - accuracy: 1.0000\n",
            "Epoch 6/50\n",
            "9/9 [==============================] - 1s 119ms/step - loss: 0.5626 - accuracy: 1.0000\n",
            "Epoch 7/50\n",
            "9/9 [==============================] - 1s 121ms/step - loss: 0.5626 - accuracy: 1.0000\n",
            "Epoch 8/50\n",
            "9/9 [==============================] - 1s 119ms/step - loss: 0.5625 - accuracy: 1.0000\n",
            "Epoch 9/50\n",
            "9/9 [==============================] - 1s 121ms/step - loss: 0.5625 - accuracy: 1.0000\n",
            "Epoch 10/50\n",
            "9/9 [==============================] - 1s 119ms/step - loss: 0.5625 - accuracy: 1.0000\n",
            "Epoch 11/50\n",
            "9/9 [==============================] - 1s 118ms/step - loss: 0.5625 - accuracy: 1.0000\n",
            "Epoch 12/50\n",
            "9/9 [==============================] - 1s 117ms/step - loss: 0.5625 - accuracy: 1.0000\n",
            "Epoch 13/50\n",
            "9/9 [==============================] - 1s 118ms/step - loss: 0.5625 - accuracy: 1.0000\n",
            "Epoch 14/50\n",
            "9/9 [==============================] - 1s 121ms/step - loss: 0.5625 - accuracy: 1.0000\n",
            "Epoch 15/50\n",
            "9/9 [==============================] - 1s 120ms/step - loss: 0.5625 - accuracy: 1.0000\n",
            "Epoch 16/50\n",
            "9/9 [==============================] - 1s 120ms/step - loss: 0.5625 - accuracy: 1.0000\n",
            "Epoch 17/50\n",
            "9/9 [==============================] - 1s 119ms/step - loss: 0.5625 - accuracy: 1.0000\n",
            "Epoch 18/50\n",
            "9/9 [==============================] - 1s 121ms/step - loss: 0.5625 - accuracy: 1.0000\n",
            "Epoch 19/50\n",
            "9/9 [==============================] - 1s 122ms/step - loss: 0.5625 - accuracy: 1.0000\n",
            "Epoch 20/50\n",
            "9/9 [==============================] - 1s 119ms/step - loss: 0.5625 - accuracy: 1.0000\n",
            "Epoch 21/50\n",
            "9/9 [==============================] - 1s 119ms/step - loss: 0.5625 - accuracy: 1.0000\n",
            "Epoch 22/50\n",
            "9/9 [==============================] - 1s 118ms/step - loss: 0.5624 - accuracy: 1.0000\n",
            "Epoch 23/50\n",
            "9/9 [==============================] - 1s 122ms/step - loss: 0.5624 - accuracy: 1.0000\n",
            "Epoch 24/50\n",
            "9/9 [==============================] - 1s 121ms/step - loss: 0.5624 - accuracy: 1.0000\n",
            "Epoch 25/50\n",
            "9/9 [==============================] - 1s 121ms/step - loss: 0.5624 - accuracy: 1.0000\n",
            "Epoch 26/50\n",
            "9/9 [==============================] - 1s 134ms/step - loss: 0.5624 - accuracy: 1.0000\n",
            "Epoch 27/50\n",
            "9/9 [==============================] - 2s 174ms/step - loss: 0.5624 - accuracy: 1.0000\n",
            "Epoch 28/50\n",
            "9/9 [==============================] - 1s 127ms/step - loss: 0.5624 - accuracy: 1.0000\n",
            "Epoch 29/50\n",
            "9/9 [==============================] - 1s 120ms/step - loss: 0.5624 - accuracy: 1.0000\n",
            "Epoch 30/50\n",
            "9/9 [==============================] - 1s 119ms/step - loss: 0.5624 - accuracy: 1.0000\n",
            "Epoch 31/50\n",
            "9/9 [==============================] - 1s 121ms/step - loss: 0.5624 - accuracy: 1.0000\n",
            "Epoch 32/50\n",
            "9/9 [==============================] - 1s 122ms/step - loss: 0.5624 - accuracy: 1.0000\n",
            "Epoch 33/50\n",
            "9/9 [==============================] - 1s 120ms/step - loss: 0.5624 - accuracy: 1.0000\n",
            "Epoch 34/50\n",
            "9/9 [==============================] - 1s 119ms/step - loss: 0.5624 - accuracy: 1.0000\n",
            "Epoch 35/50\n",
            "9/9 [==============================] - 1s 121ms/step - loss: 0.5624 - accuracy: 1.0000\n",
            "Epoch 36/50\n",
            "9/9 [==============================] - 1s 117ms/step - loss: 0.5624 - accuracy: 1.0000\n",
            "Epoch 37/50\n",
            "9/9 [==============================] - 1s 120ms/step - loss: 0.5624 - accuracy: 1.0000\n",
            "Epoch 38/50\n",
            "9/9 [==============================] - 1s 121ms/step - loss: 0.5624 - accuracy: 1.0000\n",
            "Epoch 39/50\n",
            "9/9 [==============================] - 1s 119ms/step - loss: 0.5624 - accuracy: 1.0000\n",
            "Epoch 40/50\n",
            "9/9 [==============================] - 1s 120ms/step - loss: 0.5624 - accuracy: 1.0000\n",
            "Epoch 41/50\n",
            "9/9 [==============================] - 1s 117ms/step - loss: 0.5624 - accuracy: 1.0000\n",
            "Epoch 42/50\n",
            "9/9 [==============================] - 1s 123ms/step - loss: 0.5624 - accuracy: 1.0000\n",
            "Epoch 43/50\n",
            "9/9 [==============================] - 1s 119ms/step - loss: 0.5624 - accuracy: 1.0000\n",
            "Epoch 44/50\n",
            "9/9 [==============================] - 1s 119ms/step - loss: 0.5624 - accuracy: 1.0000\n",
            "Epoch 45/50\n",
            "9/9 [==============================] - 1s 120ms/step - loss: 0.5624 - accuracy: 1.0000\n",
            "Epoch 46/50\n",
            "9/9 [==============================] - 1s 121ms/step - loss: 0.5624 - accuracy: 1.0000\n",
            "Epoch 47/50\n",
            "9/9 [==============================] - 1s 120ms/step - loss: 0.5624 - accuracy: 1.0000\n",
            "Epoch 48/50\n",
            "9/9 [==============================] - 1s 119ms/step - loss: 0.5624 - accuracy: 1.0000\n",
            "Epoch 49/50\n",
            "9/9 [==============================] - 1s 118ms/step - loss: 0.5624 - accuracy: 1.0000\n",
            "Epoch 50/50\n",
            "9/9 [==============================] - 1s 120ms/step - loss: 0.5624 - accuracy: 1.0000\n"
          ]
        }
      ]
    },
    {
      "cell_type": "markdown",
      "source": [
        "**Final Accuracy & Loss Testing**"
      ],
      "metadata": {
        "id": "KN9aVUdKXn3p"
      }
    },
    {
      "cell_type": "code",
      "source": [
        "loss, accuracy = model.evaluate(X_test, y_test, verbose=False)\n",
        "print(\"Testing Accuracy {:.4f}\".format(accuracy))\n",
        "loss, accuracy = model.evaluate(X_test, y_test, verbose=False)\n",
        "print(\"Testing Loss {:.4f}\".format(loss))"
      ],
      "metadata": {
        "colab": {
          "base_uri": "https://localhost:8080/"
        },
        "id": "jXb6Uz5hXocx",
        "outputId": "4f3df3aa-1cf7-40ac-c3f7-070321213e3e"
      },
      "execution_count": 25,
      "outputs": [
        {
          "output_type": "stream",
          "name": "stdout",
          "text": [
            "Testing Accuracy 0.9821\n",
            "Testing Loss 0.5718\n"
          ]
        }
      ]
    },
    {
      "cell_type": "code",
      "source": [
        "data.to_csv(\"output.csv\")"
      ],
      "metadata": {
        "id": "va7mj2IJXtmj"
      },
      "execution_count": 26,
      "outputs": []
    },
    {
      "cell_type": "code",
      "source": [],
      "metadata": {
        "id": "ddCZcw6UXtlT"
      },
      "execution_count": null,
      "outputs": []
    }
  ]
}